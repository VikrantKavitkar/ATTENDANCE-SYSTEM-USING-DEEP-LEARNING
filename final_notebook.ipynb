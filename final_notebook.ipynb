{
 "cells": [
  {
   "cell_type": "code",
   "execution_count": 1,
   "id": "6d710619-8bf5-4983-a2af-581a5ad5ce43",
   "metadata": {},
   "outputs": [
    {
     "name": "stdout",
     "output_type": "stream",
     "text": [
      "Requirement already satisfied: matplotlib in c:\\python311\\lib\\site-packages (3.8.1)\n",
      "Requirement already satisfied: contourpy>=1.0.1 in c:\\python311\\lib\\site-packages (from matplotlib) (1.2.0)\n",
      "Requirement already satisfied: cycler>=0.10 in c:\\python311\\lib\\site-packages (from matplotlib) (0.12.1)\n",
      "Requirement already satisfied: fonttools>=4.22.0 in c:\\python311\\lib\\site-packages (from matplotlib) (4.44.0)\n",
      "Requirement already satisfied: kiwisolver>=1.3.1 in c:\\python311\\lib\\site-packages (from matplotlib) (1.4.5)\n",
      "Requirement already satisfied: numpy<2,>=1.21 in c:\\python311\\lib\\site-packages (from matplotlib) (1.26.1)\n",
      "Requirement already satisfied: packaging>=20.0 in c:\\python311\\lib\\site-packages (from matplotlib) (23.2)\n",
      "Requirement already satisfied: pillow>=8 in c:\\python311\\lib\\site-packages (from matplotlib) (10.1.0)\n",
      "Requirement already satisfied: pyparsing>=2.3.1 in c:\\python311\\lib\\site-packages (from matplotlib) (3.1.1)\n",
      "Requirement already satisfied: python-dateutil>=2.7 in c:\\python311\\lib\\site-packages (from matplotlib) (2.8.2)\n",
      "Requirement already satisfied: six>=1.5 in c:\\python311\\lib\\site-packages (from python-dateutil>=2.7->matplotlib) (1.16.0)\n"
     ]
    },
    {
     "name": "stderr",
     "output_type": "stream",
     "text": [
      "\n",
      "[notice] A new release of pip is available: 23.2.1 -> 24.0\n",
      "[notice] To update, run: python.exe -m pip install --upgrade pip\n"
     ]
    }
   ],
   "source": [
    "!pip install matplotlib\n",
    "# Import standard dependencies\n",
    "import cv2\n",
    "import os\n",
    "import random\n",
    "import numpy as np\n",
    "from matplotlib import pyplot as plt\n"
   ]
  },
  {
   "cell_type": "code",
   "execution_count": 2,
   "id": "bb362f8f-063c-49d5-bd09-0391e48497bf",
   "metadata": {},
   "outputs": [],
   "source": [
    "# Import tensorflow dependencies - Functional API\n",
    "from tensorflow.keras.models import Model\n",
    "from tensorflow.keras.layers import Layer, Conv2D, Dense, MaxPooling2D, Input, Flatten\n",
    "import tensorflow as tf"
   ]
  },
  {
   "cell_type": "code",
   "execution_count": 3,
   "id": "3f837e9e-04fe-49e9-ad34-93d42e69f8c3",
   "metadata": {},
   "outputs": [],
   "source": [
    "# Setup paths\n",
    "POS_PATH = os.path.join('data', 'positive')\n",
    "NEG_PATH = os.path.join('data', 'negative')\n",
    "ANC_PATH = os.path.join('data', 'anchor')"
   ]
  },
  {
   "cell_type": "code",
   "execution_count": 4,
   "id": "64455bff-c05c-499c-9e86-4f2b70315292",
   "metadata": {},
   "outputs": [
    {
     "ename": "FileExistsError",
     "evalue": "[WinError 183] Cannot create a file when that file already exists: 'data\\\\positive'",
     "output_type": "error",
     "traceback": [
      "\u001b[1;31m---------------------------------------------------------------------------\u001b[0m",
      "\u001b[1;31mFileExistsError\u001b[0m                           Traceback (most recent call last)",
      "Cell \u001b[1;32mIn[4], line 2\u001b[0m\n\u001b[0;32m      1\u001b[0m \u001b[38;5;66;03m# Make the directories\u001b[39;00m\n\u001b[1;32m----> 2\u001b[0m \u001b[43mos\u001b[49m\u001b[38;5;241;43m.\u001b[39;49m\u001b[43mmakedirs\u001b[49m\u001b[43m(\u001b[49m\u001b[43mPOS_PATH\u001b[49m\u001b[43m)\u001b[49m\n\u001b[0;32m      3\u001b[0m os\u001b[38;5;241m.\u001b[39mmakedirs(NEG_PATH)\n\u001b[0;32m      4\u001b[0m os\u001b[38;5;241m.\u001b[39mmakedirs(ANC_PATH)\n",
      "File \u001b[1;32m<frozen os>:225\u001b[0m, in \u001b[0;36mmakedirs\u001b[1;34m(name, mode, exist_ok)\u001b[0m\n",
      "\u001b[1;31mFileExistsError\u001b[0m: [WinError 183] Cannot create a file when that file already exists: 'data\\\\positive'"
     ]
    }
   ],
   "source": [
    "# Make the directories\n",
    "os.makedirs(POS_PATH)\n",
    "os.makedirs(NEG_PATH)\n",
    "os.makedirs(ANC_PATH)"
   ]
  },
  {
   "cell_type": "code",
   "execution_count": 5,
   "id": "e22df112-c66f-4b8b-bd3c-7bfdd2edd30a",
   "metadata": {},
   "outputs": [],
   "source": [
    "# Import uuid library to generate unique image names\n",
    "import uuid"
   ]
  },
  {
   "cell_type": "code",
   "execution_count": 7,
   "id": "3bc5c459-de83-4ffd-9988-91c420d91f1f",
   "metadata": {},
   "outputs": [
    {
     "data": {
      "text/plain": [
       "'data\\\\anchor\\\\2b01b558-fa04-11ee-b29b-00933761849b.jpg'"
      ]
     },
     "execution_count": 7,
     "metadata": {},
     "output_type": "execute_result"
    }
   ],
   "source": [
    "os.path.join(ANC_PATH, '{}.jpg'.format(uuid.uuid1()))"
   ]
  },
  {
   "cell_type": "code",
   "execution_count": 8,
   "id": "bc87e486-1481-4962-97d4-32a7aaaab051",
   "metadata": {},
   "outputs": [],
   "source": [
    "# Establish a connection to the webcam\n",
    "cap = cv2.VideoCapture(0)\n",
    "while cap.isOpened(): \n",
    "    ret, frame = cap.read()\n",
    "   \n",
    "    # Cut down frame to 250x250px\n",
    "    frame = frame[120:120+250,200:200+250, :]\n",
    "    \n",
    "    # Collect anchors \n",
    "    if cv2.waitKey(1) & 0XFF == ord('a'):\n",
    "        # Create the unique file path \n",
    "        imgname = os.path.join(ANC_PATH, '{}.jpg'.format(uuid.uuid1()))\n",
    "        # Write out anchor image\n",
    "        cv2.imwrite(imgname, frame)\n",
    "    \n",
    "    # Collect positives\n",
    "    if cv2.waitKey(1) & 0XFF == ord('p'):\n",
    "        # Create the unique file path \n",
    "        imgname = os.path.join(POS_PATH, '{}.jpg'.format(uuid.uuid1()))\n",
    "        # Write out positive image\n",
    "        cv2.imwrite(imgname, frame)\n",
    "    \n",
    "    # Show image back to screen\n",
    "    cv2.imshow('Image Collection', frame)\n",
    "    \n",
    "    # Breaking gracefully\n",
    "    if cv2.waitKey(1) & 0XFF == ord('q'):\n",
    "        break\n",
    "        \n",
    "# Release the webcam\n",
    "cap.release()\n",
    "# Close the image show frame\n",
    "cv2.destroyAllWindows()"
   ]
  },
  {
   "cell_type": "code",
   "execution_count": 9,
   "id": "1b2b92a7-7404-4635-aa9f-a37e27ab973d",
   "metadata": {},
   "outputs": [],
   "source": [
    "anchor = tf.data.Dataset.list_files(ANC_PATH+'\\*.jpg').take(35)\n",
    "positive = tf.data.Dataset.list_files(POS_PATH+'\\*.jpg').take(35)\n",
    "negative = tf.data.Dataset.list_files(NEG_PATH+'\\*.jpg').take(35)"
   ]
  },
  {
   "cell_type": "code",
   "execution_count": 10,
   "id": "f7e7809a-231b-43fa-adf5-7c41d0441334",
   "metadata": {},
   "outputs": [],
   "source": [
    "dir_test = anchor.as_numpy_iterator()"
   ]
  },
  {
   "cell_type": "code",
   "execution_count": 11,
   "id": "dedce2c9-42bb-4139-8e70-83a3b87e25dd",
   "metadata": {},
   "outputs": [
    {
     "name": "stdout",
     "output_type": "stream",
     "text": [
      "b'data\\\\anchor\\\\7ad112e8-811d-11ee-a87a-00933761849b.jpg'\n"
     ]
    }
   ],
   "source": [
    "print(dir_test.next())"
   ]
  },
  {
   "cell_type": "code",
   "execution_count": 12,
   "id": "9cc272ea-0c4e-41ca-b15d-460befa8c4d6",
   "metadata": {},
   "outputs": [],
   "source": [
    "def preprocess(file_path):\n",
    "    #read image from the passed file path\n",
    "    byte_img = tf.io.read_file(file_path)\n",
    "    #load in the image\n",
    "    img = tf.io.decode_jpeg(byte_img)\n",
    "    \n",
    "    #preprocessing step- resizing the image to be 100x100x3\n",
    "    img = tf.image.resize(img,(100,100))\n",
    "    #scale the image to be between 0  and 1\n",
    "    img = img/255.0\n",
    "    #return our image\n",
    "    return img"
   ]
  },
  {
   "cell_type": "code",
   "execution_count": 13,
   "id": "531016ba-6565-4e18-a2d9-58c9844e6e89",
   "metadata": {},
   "outputs": [],
   "source": [
    "img = preprocess('data\\\\anchor\\\\7ad112e8-811d-11ee-a87a-00933761849b.jpg')"
   ]
  },
  {
   "cell_type": "code",
   "execution_count": 14,
   "id": "b9cd2ff8-44fd-4786-90e5-3a694138042d",
   "metadata": {},
   "outputs": [
    {
     "data": {
      "text/plain": [
       "0.7803372"
      ]
     },
     "execution_count": 14,
     "metadata": {},
     "output_type": "execute_result"
    }
   ],
   "source": [
    "img.numpy().max()\n",
    "#here we just make sure that our value does not go past 1"
   ]
  },
  {
   "cell_type": "code",
   "execution_count": 16,
   "id": "5419ffe4-e9f4-4fe0-a8a0-a1cadb34bac3",
   "metadata": {},
   "outputs": [
    {
     "data": {
      "text/plain": [
       "<matplotlib.image.AxesImage at 0x2558fca9150>"
      ]
     },
     "execution_count": 16,
     "metadata": {},
     "output_type": "execute_result"
    },
    {
     "data": {
      "image/png": "[encoded data removed]",
      "text/plain": [
       "<Figure size 640x480 with 1 Axes>"
      ]
     },
     "metadata": {},
     "output_type": "display_data"
    }
   ],
   "source": [
    "plt.imshow(img)"
   ]
  },
  {
   "cell_type": "code",
   "execution_count": 17,
   "id": "075a19ae-0653-40d7-a412-183d01b9dcdc",
   "metadata": {},
   "outputs": [],
   "source": [
    "positives = tf.data.Dataset.zip((anchor, positive, tf.data.Dataset.from_tensor_slices(tf.ones(len(anchor)))))\n",
    "negatives = tf.data.Dataset.zip((anchor, negative, tf.data.Dataset.from_tensor_slices(tf.zeros(len(anchor)))))\n",
    "data = positives.concatenate(negatives)"
   ]
  },
  {
   "cell_type": "code",
   "execution_count": 18,
   "id": "09a8548c-f5cd-4d6d-b785-3cd01bd325be",
   "metadata": {},
   "outputs": [],
   "source": [
    "#(anchor,positives) => 1,1,1,1,1\n",
    "#(anchor,negatives) => 0,0,0,0,0\n"
   ]
  },
  {
   "cell_type": "code",
   "execution_count": 19,
   "id": "149783bc-ffa9-44cd-b9bf-ded790f0a559",
   "metadata": {},
   "outputs": [
    {
     "data": {
      "text/plain": [
       "<tf.Tensor: shape=(35,), dtype=float32, numpy=\n",
       "array([1., 1., 1., 1., 1., 1., 1., 1., 1., 1., 1., 1., 1., 1., 1., 1., 1.,\n",
       "       1., 1., 1., 1., 1., 1., 1., 1., 1., 1., 1., 1., 1., 1., 1., 1., 1.,\n",
       "       1.], dtype=float32)>"
      ]
     },
     "execution_count": 19,
     "metadata": {},
     "output_type": "execute_result"
    }
   ],
   "source": [
    "tf.ones(len(anchor))"
   ]
  },
  {
   "cell_type": "code",
   "execution_count": 20,
   "id": "1a5fad53-b6c0-4197-8342-c934f987c396",
   "metadata": {},
   "outputs": [
    {
     "data": {
      "text/plain": [
       "<_ConcatenateDataset element_spec=(TensorSpec(shape=(), dtype=tf.string, name=None), TensorSpec(shape=(), dtype=tf.string, name=None), TensorSpec(shape=(), dtype=tf.float32, name=None))>"
      ]
     },
     "execution_count": 20,
     "metadata": {},
     "output_type": "execute_result"
    }
   ],
   "source": [
    "data"
   ]
  },
  {
   "cell_type": "code",
   "execution_count": 21,
   "id": "3231d0c8-2605-42ab-a4c8-49fac2d6cb57",
   "metadata": {},
   "outputs": [],
   "source": [
    "#here the first tf.string will contain the file path to out actual image \n",
    "#the second to either the positive or negative image\n",
    "#and the third will determine whether the prediction was right or not or if they are the same or not"
   ]
  },
  {
   "cell_type": "code",
   "execution_count": 22,
   "id": "734de290-a8d8-4d90-9024-1bce130cd61e",
   "metadata": {},
   "outputs": [],
   "source": [
    "class_labels = tf.data.Dataset.from_tensor_slices(tf.zeros(len(anchor)))"
   ]
  },
  {
   "cell_type": "code",
   "execution_count": 23,
   "id": "0309a4b1-c8f4-4477-93ed-a0bb5f0f99e2",
   "metadata": {},
   "outputs": [],
   "source": [
    "iterator_labs = class_labels.as_numpy_iterator()"
   ]
  },
  {
   "cell_type": "code",
   "execution_count": 24,
   "id": "59005444-bf05-42fa-b0f7-1dcc79c56ed0",
   "metadata": {},
   "outputs": [
    {
     "data": {
      "text/plain": [
       "0.0"
      ]
     },
     "execution_count": 24,
     "metadata": {},
     "output_type": "execute_result"
    }
   ],
   "source": [
    "iterator_labs.next()"
   ]
  },
  {
   "cell_type": "code",
   "execution_count": 25,
   "id": "86bf5511-31c0-4ca8-a57b-ed6fe5cfeb66",
   "metadata": {},
   "outputs": [],
   "source": [
    "samples = data.as_numpy_iterator()"
   ]
  },
  {
   "cell_type": "code",
   "execution_count": 26,
   "id": "6a8e78df-66d0-4003-b5ca-ff04431b0e49",
   "metadata": {},
   "outputs": [],
   "source": [
    "examples = samples.next()"
   ]
  },
  {
   "cell_type": "code",
   "execution_count": 27,
   "id": "1c43eed5-8c59-46da-9f67-464266a791ae",
   "metadata": {},
   "outputs": [
    {
     "data": {
      "text/plain": [
       "(b'data\\\\anchor\\\\e85df8e4-7d3e-11ee-acb5-00933761849b.jpg',\n",
       " b'data\\\\positive\\\\0d3f09fc-7d3f-11ee-abd9-00933761849b.jpg',\n",
       " 1.0)"
      ]
     },
     "execution_count": 27,
     "metadata": {},
     "output_type": "execute_result"
    }
   ],
   "source": [
    "examples"
   ]
  },
  {
   "cell_type": "code",
   "execution_count": 28,
   "id": "d2229256-8b6b-4a7d-a015-83556cfeedd4",
   "metadata": {},
   "outputs": [],
   "source": [
    "img = preprocess('data\\\\positive\\\\0d3f09fc-7d3f-11ee-abd9-00933761849b.jpg')"
   ]
  },
  {
   "cell_type": "code",
   "execution_count": 30,
   "id": "407f2434-490f-4ade-ae5e-a7f2befc0b02",
   "metadata": {},
   "outputs": [
    {
     "data": {
      "text/plain": [
       "<matplotlib.image.AxesImage at 0x255c6370450>"
      ]
     },
     "execution_count": 30,
     "metadata": {},
     "output_type": "execute_result"
    },
    {
     "data": {
      "image/png": "[encoded data removed]",
      "text/plain": [
       "<Figure size 640x480 with 1 Axes>"
      ]
     },
     "metadata": {},
     "output_type": "display_data"
    }
   ],
   "source": [
    "plt.imshow(img)"
   ]
  },
  {
   "cell_type": "code",
   "execution_count": 31,
   "id": "d3e4d943-ce75-42b2-b67e-31f81a67f62a",
   "metadata": {},
   "outputs": [],
   "source": [
    "img2 = preprocess('data\\\\anchor\\\\e85df8e4-7d3e-11ee-acb5-00933761849b.jpg')"
   ]
  },
  {
   "cell_type": "code",
   "execution_count": 32,
   "id": "6eb14ffa-6404-4ae0-88dc-28f2b84de4d3",
   "metadata": {},
   "outputs": [
    {
     "data": {
      "text/plain": [
       "<matplotlib.image.AxesImage at 0x255c636bc90>"
      ]
     },
     "execution_count": 32,
     "metadata": {},
     "output_type": "execute_result"
    },
    {
     "data": {
      "image/png": "[encoded data removed]",
      "text/plain": [
       "<Figure size 640x480 with 1 Axes>"
      ]
     },
     "metadata": {},
     "output_type": "display_data"
    }
   ],
   "source": [
    "plt.imshow(img2)"
   ]
  },
  {
   "cell_type": "code",
   "execution_count": 33,
   "id": "b249d07f-134d-44bd-b168-8a71c7ed8b65",
   "metadata": {},
   "outputs": [],
   "source": [
    "#Build train and test partition\n",
    "\n",
    "def preprocess_twin(input_img, validation_img, label):\n",
    "    return (preprocess(input_img), preprocess(validation_img), label)\n",
    "#this function will return by running the preprocess function over the input image and the validation image\n",
    "#and also return the label  of the process --> 0 or 1"
   ]
  },
  {
   "cell_type": "code",
   "execution_count": 35,
   "id": "c60f0caf-ae92-4d9c-b336-e3f6d57be948",
   "metadata": {},
   "outputs": [],
   "source": [
    "res = preprocess_twin(*examples)\n",
    "#preprocess everything from examples"
   ]
  },
  {
   "cell_type": "code",
   "execution_count": 36,
   "id": "12b4d848-8fde-482a-bbfb-1657f496edd8",
   "metadata": {},
   "outputs": [
    {
     "data": {
      "text/plain": [
       "(<tf.Tensor: shape=(100, 100, 3), dtype=float32, numpy=\n",
       " array([[[4.3368000e-01, 5.0905252e-01, 6.1460865e-01],\n",
       "         [4.0237334e-01, 4.6598116e-01, 5.6852859e-01],\n",
       "         [4.6219608e-01, 5.0454903e-01, 5.9749019e-01],\n",
       "         ...,\n",
       "         [5.1796865e-01, 5.6527066e-01, 6.3105887e-01],\n",
       "         [5.0674510e-01, 5.5121565e-01, 6.1368465e-01],\n",
       "         [4.9918267e-01, 5.3447676e-01, 5.9399360e-01]],\n",
       " \n",
       "        [[4.6313411e-01, 5.3560466e-01, 6.5136945e-01],\n",
       "         [4.1989490e-01, 4.8344159e-01, 5.8734590e-01],\n",
       "         [4.8521566e-01, 5.2521574e-01, 6.2482351e-01],\n",
       "         ...,\n",
       "         [5.2794510e-01, 5.7341182e-01, 6.4535689e-01],\n",
       "         [5.1157331e-01, 5.5601722e-01, 6.1976469e-01],\n",
       "         [5.0892073e-01, 5.4442978e-01, 6.1105871e-01]],\n",
       " \n",
       "        [[4.9367058e-01, 5.6542748e-01, 6.9305098e-01],\n",
       "         [4.2226666e-01, 4.8221177e-01, 5.9861177e-01],\n",
       "         [5.4011762e-01, 5.7819611e-01, 6.8329412e-01],\n",
       "         ...,\n",
       "         [5.3486276e-01, 5.8356869e-01, 6.7286283e-01],\n",
       "         [5.1647055e-01, 5.6295687e-01, 6.4271373e-01],\n",
       "         [5.1269799e-01, 5.6219608e-01, 6.2972546e-01]],\n",
       " \n",
       "        ...,\n",
       " \n",
       "        [[8.2487516e-02, 1.6091888e-01, 1.8836986e-01],\n",
       "         [1.0008802e-01, 1.7301373e-01, 2.0046471e-01],\n",
       "         [1.4796323e-01, 2.2415939e-01, 2.5125745e-01],\n",
       "         ...,\n",
       "         [2.8992155e-01, 1.7690191e-01, 5.4117478e-02],\n",
       "         [3.0706683e-01, 1.9033736e-01, 5.8839243e-02],\n",
       "         [3.2076895e-01, 2.0312189e-01, 6.9788553e-02]],\n",
       " \n",
       "        [[5.0745383e-03, 8.3505914e-02, 1.1095689e-01],\n",
       "         [1.6909733e-03, 7.9755209e-02, 1.0720619e-01],\n",
       "         [1.6474069e-04, 7.8062743e-02, 1.0433726e-01],\n",
       "         ...,\n",
       "         [2.9678428e-01, 1.9194505e-01, 8.0470547e-02],\n",
       "         [3.0406898e-01, 1.9032624e-01, 7.0796788e-02],\n",
       "         [2.8960627e-01, 1.7295840e-01, 4.1623447e-02]],\n",
       " \n",
       "        [[4.6504315e-02, 1.1709255e-01, 1.5630823e-01],\n",
       "         [2.3729863e-02, 1.0043574e-01, 1.3659261e-01],\n",
       "         [1.3340962e-02, 9.1772333e-02, 1.2706646e-01],\n",
       "         ...,\n",
       "         [2.5051031e-01, 1.5727893e-01, 5.1914230e-02],\n",
       "         [2.8018078e-01, 1.7661048e-01, 5.6357965e-02],\n",
       "         [2.9840633e-01, 1.8468082e-01, 6.0536459e-02]]], dtype=float32)>,\n",
       " <tf.Tensor: shape=(100, 100, 3), dtype=float32, numpy=\n",
       " array([[[0.44449097, 0.5091185 , 0.6257459 ],\n",
       "         [0.40307608, 0.4588408 , 0.57048625],\n",
       "         [0.46439216, 0.49890193, 0.598902  ],\n",
       "         ...,\n",
       "         [0.5266118 , 0.55617255, 0.62887067],\n",
       "         [0.5147655 , 0.541647  , 0.60647213],\n",
       "         [0.5031042 , 0.5289537 , 0.5849081 ]],\n",
       " \n",
       "        [[0.46666354, 0.5313317 , 0.6479388 ],\n",
       "         [0.4218651 , 0.47766432, 0.58525485],\n",
       "         [0.49222744, 0.5267372 , 0.62124705],\n",
       "         ...,\n",
       "         [0.5352393 , 0.57850987, 0.65155303],\n",
       "         [0.5097428 , 0.54519373, 0.61193883],\n",
       "         [0.50678587, 0.54229486, 0.603236  ]],\n",
       " \n",
       "        [[0.49225882, 0.5629882 , 0.678596  ],\n",
       "         [0.42804706, 0.48553723, 0.59228235],\n",
       "         [0.53466666, 0.57301956, 0.6656078 ],\n",
       "         ...,\n",
       "         [0.5281569 , 0.58427453, 0.6653334 ],\n",
       "         [0.51377255, 0.5624    , 0.6357333 ],\n",
       "         [0.50384307, 0.55334115, 0.6208705 ]],\n",
       " \n",
       "        ...,\n",
       " \n",
       "        [[0.10431554, 0.19664502, 0.2123313 ],\n",
       "         [0.10645676, 0.18603346, 0.20477854],\n",
       "         [0.09306045, 0.1682371 , 0.18902142],\n",
       "         ...,\n",
       "         [0.3067058 , 0.18788224, 0.05807836],\n",
       "         [0.30989024, 0.19224316, 0.05890983],\n",
       "         [0.31512964, 0.19748257, 0.06414924]],\n",
       " \n",
       "        [[0.00099921, 0.08362198, 0.09930825],\n",
       "         [0.00084549, 0.07943367, 0.09817877],\n",
       "         [0.        , 0.07583524, 0.09661955],\n",
       "         ...,\n",
       "         [0.3098353 , 0.19101177, 0.06120787],\n",
       "         [0.29739454, 0.17974749, 0.04641416],\n",
       "         [0.30286437, 0.18521734, 0.05188399]],\n",
       " \n",
       "        [[0.11683089, 0.20265491, 0.21834119],\n",
       "         [0.09374424, 0.17439194, 0.19313703],\n",
       "         [0.08618672, 0.16031985, 0.18110417],\n",
       "         ...,\n",
       "         [0.30211768, 0.1856471 , 0.05231377],\n",
       "         [0.29411766, 0.1764706 , 0.04313726],\n",
       "         [0.3038103 , 0.18616325, 0.05282991]]], dtype=float32)>,\n",
       " 1.0)"
      ]
     },
     "execution_count": 36,
     "metadata": {},
     "output_type": "execute_result"
    }
   ],
   "source": [
    "preprocess_twin(*examples)"
   ]
  },
  {
   "cell_type": "code",
   "execution_count": 37,
   "id": "3bbd6d11-8f7e-4617-9859-4e980b9bec8e",
   "metadata": {},
   "outputs": [
    {
     "data": {
      "text/plain": [
       "<tf.Tensor: shape=(100, 100, 3), dtype=float32, numpy=\n",
       "array([[[4.3368000e-01, 5.0905252e-01, 6.1460865e-01],\n",
       "        [4.0237334e-01, 4.6598116e-01, 5.6852859e-01],\n",
       "        [4.6219608e-01, 5.0454903e-01, 5.9749019e-01],\n",
       "        ...,\n",
       "        [5.1796865e-01, 5.6527066e-01, 6.3105887e-01],\n",
       "        [5.0674510e-01, 5.5121565e-01, 6.1368465e-01],\n",
       "        [4.9918267e-01, 5.3447676e-01, 5.9399360e-01]],\n",
       "\n",
       "       [[4.6313411e-01, 5.3560466e-01, 6.5136945e-01],\n",
       "        [4.1989490e-01, 4.8344159e-01, 5.8734590e-01],\n",
       "        [4.8521566e-01, 5.2521574e-01, 6.2482351e-01],\n",
       "        ...,\n",
       "        [5.2794510e-01, 5.7341182e-01, 6.4535689e-01],\n",
       "        [5.1157331e-01, 5.5601722e-01, 6.1976469e-01],\n",
       "        [5.0892073e-01, 5.4442978e-01, 6.1105871e-01]],\n",
       "\n",
       "       [[4.9367058e-01, 5.6542748e-01, 6.9305098e-01],\n",
       "        [4.2226666e-01, 4.8221177e-01, 5.9861177e-01],\n",
       "        [5.4011762e-01, 5.7819611e-01, 6.8329412e-01],\n",
       "        ...,\n",
       "        [5.3486276e-01, 5.8356869e-01, 6.7286283e-01],\n",
       "        [5.1647055e-01, 5.6295687e-01, 6.4271373e-01],\n",
       "        [5.1269799e-01, 5.6219608e-01, 6.2972546e-01]],\n",
       "\n",
       "       ...,\n",
       "\n",
       "       [[8.2487516e-02, 1.6091888e-01, 1.8836986e-01],\n",
       "        [1.0008802e-01, 1.7301373e-01, 2.0046471e-01],\n",
       "        [1.4796323e-01, 2.2415939e-01, 2.5125745e-01],\n",
       "        ...,\n",
       "        [2.8992155e-01, 1.7690191e-01, 5.4117478e-02],\n",
       "        [3.0706683e-01, 1.9033736e-01, 5.8839243e-02],\n",
       "        [3.2076895e-01, 2.0312189e-01, 6.9788553e-02]],\n",
       "\n",
       "       [[5.0745383e-03, 8.3505914e-02, 1.1095689e-01],\n",
       "        [1.6909733e-03, 7.9755209e-02, 1.0720619e-01],\n",
       "        [1.6474069e-04, 7.8062743e-02, 1.0433726e-01],\n",
       "        ...,\n",
       "        [2.9678428e-01, 1.9194505e-01, 8.0470547e-02],\n",
       "        [3.0406898e-01, 1.9032624e-01, 7.0796788e-02],\n",
       "        [2.8960627e-01, 1.7295840e-01, 4.1623447e-02]],\n",
       "\n",
       "       [[4.6504315e-02, 1.1709255e-01, 1.5630823e-01],\n",
       "        [2.3729863e-02, 1.0043574e-01, 1.3659261e-01],\n",
       "        [1.3340962e-02, 9.1772333e-02, 1.2706646e-01],\n",
       "        ...,\n",
       "        [2.5051031e-01, 1.5727893e-01, 5.1914230e-02],\n",
       "        [2.8018078e-01, 1.7661048e-01, 5.6357965e-02],\n",
       "        [2.9840633e-01, 1.8468082e-01, 6.0536459e-02]]], dtype=float32)>"
      ]
     },
     "execution_count": 37,
     "metadata": {},
     "output_type": "execute_result"
    }
   ],
   "source": [
    "res[0]\n",
    "#preprocessed image of 100x100x3"
   ]
  },
  {
   "cell_type": "code",
   "execution_count": 38,
   "id": "3d31eeca-efde-4943-a371-16f85852f2b9",
   "metadata": {},
   "outputs": [
    {
     "data": {
      "text/plain": [
       "3"
      ]
     },
     "execution_count": 38,
     "metadata": {},
     "output_type": "execute_result"
    }
   ],
   "source": [
    "len(res)"
   ]
  },
  {
   "cell_type": "code",
   "execution_count": 39,
   "id": "cb3f1743-0570-40bd-8eb6-1c03775170da",
   "metadata": {},
   "outputs": [
    {
     "data": {
      "text/plain": [
       "<matplotlib.image.AxesImage at 0x255c6376e50>"
      ]
     },
     "execution_count": 39,
     "metadata": {},
     "output_type": "execute_result"
    },
    {
     "data": {
      "image/png": "[encoded data removed]",
      "text/plain": [
       "<Figure size 640x480 with 1 Axes>"
      ]
     },
     "metadata": {},
     "output_type": "display_data"
    }
   ],
   "source": [
    "plt.imshow(res[0])"
   ]
  },
  {
   "cell_type": "code",
   "execution_count": 40,
   "id": "584466c2-7121-4bed-87bd-27d0e63136dd",
   "metadata": {},
   "outputs": [
    {
     "data": {
      "text/plain": [
       "<matplotlib.image.AxesImage at 0x255c6684f10>"
      ]
     },
     "execution_count": 40,
     "metadata": {},
     "output_type": "execute_result"
    },
    {
     "data": {
      "image/png": "[encoded data removed]",
      "text/plain": [
       "<Figure size 640x480 with 1 Axes>"
      ]
     },
     "metadata": {},
     "output_type": "display_data"
    }
   ],
   "source": [
    "plt.imshow(res[1])"
   ]
  },
  {
   "cell_type": "code",
   "execution_count": 41,
   "id": "96c3c76b-ad3e-448e-a369-a62eb7f85e0b",
   "metadata": {},
   "outputs": [
    {
     "data": {
      "text/plain": [
       "1.0"
      ]
     },
     "execution_count": 41,
     "metadata": {},
     "output_type": "execute_result"
    }
   ],
   "source": [
    "res[2]"
   ]
  },
  {
   "cell_type": "code",
   "execution_count": 42,
   "id": "85f5de3e-ce24-4e3b-802d-218c473520fa",
   "metadata": {},
   "outputs": [],
   "source": [
    "#Build dataloader pipeline\n",
    "data = data.map(preprocess_twin)\n",
    "data = data.cache()\n",
    "data = data.shuffle(buffer_size=1024)\n",
    "#shuffle because we will have a mix set of samples of positives and negatives in terms of training and testing"
   ]
  },
  {
   "cell_type": "code",
   "execution_count": 43,
   "id": "801a5333-c845-4c72-a307-bd818a5f845b",
   "metadata": {},
   "outputs": [
    {
     "data": {
      "text/plain": [
       "<_ShuffleDataset element_spec=(TensorSpec(shape=(100, 100, None), dtype=tf.float32, name=None), TensorSpec(shape=(100, 100, None), dtype=tf.float32, name=None), TensorSpec(shape=(), dtype=tf.float32, name=None))>"
      ]
     },
     "execution_count": 43,
     "metadata": {},
     "output_type": "execute_result"
    }
   ],
   "source": [
    "data"
   ]
  },
  {
   "cell_type": "code",
   "execution_count": 44,
   "id": "70d91888-9263-4eda-a6eb-54b21d8d21c7",
   "metadata": {},
   "outputs": [],
   "source": [
    "samples = data.as_numpy_iterator()"
   ]
  },
  {
   "cell_type": "code",
   "execution_count": 45,
   "id": "f3547971-9c8d-4c45-bf62-4eed7098f8cb",
   "metadata": {},
   "outputs": [
    {
     "data": {
      "text/plain": [
       "(array([[[0.40384   , 0.43521255, 0.5254086 ],\n",
       "         [0.3249396 , 0.3563122 , 0.4403906 ],\n",
       "         [0.10640785, 0.1377804 , 0.21778041],\n",
       "         ...,\n",
       "         [0.46437648, 0.4471216 , 0.47612554],\n",
       "         [0.4557647 , 0.43443137, 0.4627451 ],\n",
       "         [0.4646275 , 0.43717653, 0.46756238]],\n",
       " \n",
       "        [[0.35384944, 0.385222  , 0.46757492],\n",
       "         [0.0897804 , 0.12115294, 0.20350589],\n",
       "         [0.05372549, 0.08509804, 0.16498825],\n",
       "         ...,\n",
       "         [0.45730194, 0.4321569 , 0.46229804],\n",
       "         [0.46035767, 0.43021333, 0.45835292],\n",
       "         [0.46629488, 0.4300016 , 0.45249093]],\n",
       " \n",
       "        [[0.11297257, 0.14434512, 0.22669807],\n",
       "         [0.06425098, 0.09562353, 0.17369412],\n",
       "         [0.04329411, 0.07466666, 0.14917648],\n",
       "         ...,\n",
       "         [0.44039217, 0.40745097, 0.42941177],\n",
       "         [0.4482353 , 0.40745097, 0.42431372],\n",
       "         [0.4473647 , 0.40861177, 0.41763917]],\n",
       " \n",
       "        ...,\n",
       " \n",
       "        [[0.5074123 , 0.5598279 , 0.53097284],\n",
       "         [0.25277698, 0.2940161 , 0.28049445],\n",
       "         [0.03929376, 0.05137212, 0.03956799],\n",
       "         ...,\n",
       "         [0.31298032, 0.20749027, 0.07690208],\n",
       "         [0.2995293 , 0.19403926, 0.06345107],\n",
       "         [0.30517644, 0.1996864 , 0.0690982 ]],\n",
       " \n",
       "        [[0.4907435 , 0.5456627 , 0.5452908 ],\n",
       "         [0.16843635, 0.21718614, 0.21699473],\n",
       "         [0.04423536, 0.07607844, 0.07454118],\n",
       "         ...,\n",
       "         [0.31803134, 0.20430586, 0.07097251],\n",
       "         [0.30632627, 0.19260076, 0.05926742],\n",
       "         [0.2944487 , 0.18072322, 0.04738988]],\n",
       " \n",
       "        [[0.5203905 , 0.57529247, 0.5830445 ],\n",
       "         [0.14135109, 0.19931187, 0.19099815],\n",
       "         [0.03672132, 0.07827424, 0.06838413],\n",
       "         ...,\n",
       "         [0.30931768, 0.19912164, 0.06461181],\n",
       "         [0.29866984, 0.18494435, 0.05161102],\n",
       "         [0.29719672, 0.18347123, 0.05013789]]], dtype=float32),\n",
       " array([[[0.49019608, 0.44215685, 0.40882352],\n",
       "         [0.48602942, 0.44730392, 0.4107843 ],\n",
       "         [0.4884804 , 0.4512255 , 0.4139706 ],\n",
       "         ...,\n",
       "         [0.6936275 , 0.7232843 , 0.8090686 ],\n",
       "         [0.7026961 , 0.6995098 , 0.77843136],\n",
       "         [0.6345588 , 0.57916665, 0.6191176 ]],\n",
       " \n",
       "        [[0.50784314, 0.4379902 , 0.42156863],\n",
       "         [0.5058824 , 0.44705883, 0.42745098],\n",
       "         [0.5156863 , 0.45686275, 0.44313726],\n",
       "         ...,\n",
       "         [0.7       , 0.7235294 , 0.8112745 ],\n",
       "         [0.7       , 0.6897059 , 0.7531863 ],\n",
       "         [0.57867646, 0.51004905, 0.5245098 ]],\n",
       " \n",
       "        [[0.5151961 , 0.46887255, 0.43333334],\n",
       "         [0.5139706 , 0.47181374, 0.4345588 ],\n",
       "         [0.5208333 , 0.47867647, 0.44142157],\n",
       "         ...,\n",
       "         [0.6982843 , 0.7269608 , 0.8088235 ],\n",
       "         [0.65343136, 0.63284314, 0.6838235 ],\n",
       "         [0.60882354, 0.53431374, 0.5112745 ]],\n",
       " \n",
       "        ...,\n",
       " \n",
       "        [[0.08333334, 0.12843138, 0.12941177],\n",
       "         [0.10441177, 0.14093137, 0.15122549],\n",
       "         [0.15147059, 0.19166666, 0.20637254],\n",
       "         ...,\n",
       "         [0.05147059, 0.09068628, 0.13578431],\n",
       "         [0.04681373, 0.09411765, 0.14485294],\n",
       "         [0.0497549 , 0.10539216, 0.15245098]],\n",
       " \n",
       "        [[0.04117647, 0.07254902, 0.08333334],\n",
       "         [0.05784314, 0.07745098, 0.09240196],\n",
       "         [0.0632353 , 0.09166667, 0.10441177],\n",
       "         ...,\n",
       "         [0.0629902 , 0.09828431, 0.12181372],\n",
       "         [0.09068628, 0.12696078, 0.15637255],\n",
       "         [0.10931373, 0.15441176, 0.17990196]],\n",
       " \n",
       "        [[0.06593137, 0.10318627, 0.1252451 ],\n",
       "         [0.05245098, 0.08921569, 0.10955882],\n",
       "         [0.0622549 , 0.09754902, 0.11715686],\n",
       "         ...,\n",
       "         [0.26617646, 0.3007353 , 0.297549  ],\n",
       "         [0.2995098 , 0.33186275, 0.3367647 ],\n",
       "         [0.1622549 , 0.19828431, 0.19240196]]], dtype=float32),\n",
       " 1.0)"
      ]
     },
     "execution_count": 45,
     "metadata": {},
     "output_type": "execute_result"
    }
   ],
   "source": [
    "samples.next()"
   ]
  },
  {
   "cell_type": "code",
   "execution_count": 46,
   "id": "4a7f106c-0426-41ae-bf4c-41f7eb65e65b",
   "metadata": {},
   "outputs": [],
   "source": [
    "samp = samples.next()\n"
   ]
  },
  {
   "cell_type": "code",
   "execution_count": 47,
   "id": "eb475d81-e1fd-4c7d-bb8e-3d3d81476a36",
   "metadata": {},
   "outputs": [
    {
     "data": {
      "text/plain": [
       "<matplotlib.image.AxesImage at 0x255c25aea10>"
      ]
     },
     "execution_count": 47,
     "metadata": {},
     "output_type": "execute_result"
    },
    {
     "data": {
      "image/png": "[encoded data removed]",
      "text/plain": [
       "<Figure size 640x480 with 1 Axes>"
      ]
     },
     "metadata": {},
     "output_type": "display_data"
    }
   ],
   "source": [
    "plt.imshow(samp[0])\n",
    "# anchor image"
   ]
  },
  {
   "cell_type": "code",
   "execution_count": 49,
   "id": "d362a179-a60b-4e8f-878e-4c1a1e73716d",
   "metadata": {},
   "outputs": [
    {
     "data": {
      "text/plain": [
       "<matplotlib.image.AxesImage at 0x255c682e1d0>"
      ]
     },
     "execution_count": 49,
     "metadata": {},
     "output_type": "execute_result"
    },
    {
     "data": {
      "image/png": "[encoded data removed]",
      "text/plain": [
       "<Figure size 640x480 with 1 Axes>"
      ]
     },
     "metadata": {},
     "output_type": "display_data"
    }
   ],
   "source": [
    "plt.imshow(samp[1])\n",
    "# validation image"
   ]
  },
  {
   "cell_type": "code",
   "execution_count": 50,
   "id": "60110036-de20-4812-b4e1-fa6653679032",
   "metadata": {},
   "outputs": [
    {
     "data": {
      "text/plain": [
       "1.0"
      ]
     },
     "execution_count": 50,
     "metadata": {},
     "output_type": "execute_result"
    }
   ],
   "source": [
    "# //as images are same so label should be 1\n",
    "samp[2]"
   ]
  },
  {
   "cell_type": "code",
   "execution_count": 51,
   "id": "7d9b0881-398d-4934-9413-9dba9b3c88c8",
   "metadata": {},
   "outputs": [
    {
     "data": {
      "text/plain": [
       "32"
      ]
     },
     "execution_count": 51,
     "metadata": {},
     "output_type": "execute_result"
    }
   ],
   "source": [
    "round(len(data)*0.7)\n",
    "#taking around 70% of images"
   ]
  },
  {
   "cell_type": "code",
   "execution_count": 52,
   "id": "6f1ea97e-a2e7-4acb-a6a5-b6ba7b7da06f",
   "metadata": {},
   "outputs": [],
   "source": [
    "#Training partition\n",
    "train_data = data.take(round(len(data)*0.7))\n",
    "train_data = train_data.batch(8)\n",
    "train_data = train_data.prefetch(4)"
   ]
  },
  {
   "cell_type": "code",
   "execution_count": 53,
   "id": "27dfa8ba-c82d-4583-a878-5806a75ab502",
   "metadata": {},
   "outputs": [],
   "source": [
    "train_samples = train_data.as_numpy_iterator()"
   ]
  },
  {
   "cell_type": "code",
   "execution_count": 54,
   "id": "36591f13-aed8-431e-b5a9-846702984d42",
   "metadata": {},
   "outputs": [],
   "source": [
    "train_sample = train_samples.next()"
   ]
  },
  {
   "cell_type": "code",
   "execution_count": 55,
   "id": "b32ff4af-6649-4f2a-b51e-8c2761426196",
   "metadata": {},
   "outputs": [
    {
     "data": {
      "text/plain": [
       "3"
      ]
     },
     "execution_count": 55,
     "metadata": {},
     "output_type": "execute_result"
    }
   ],
   "source": [
    "len(train_sample)"
   ]
  },
  {
   "cell_type": "code",
   "execution_count": 56,
   "id": "8c02114e-2aa7-4a62-8ec5-1023226c74cc",
   "metadata": {},
   "outputs": [
    {
     "data": {
      "text/plain": [
       "8"
      ]
     },
     "execution_count": 56,
     "metadata": {},
     "output_type": "execute_result"
    }
   ],
   "source": [
    "len(train_sample[0])\n",
    "#basically it shows the batches of images that we are taking at a time"
   ]
  },
  {
   "cell_type": "code",
   "execution_count": 57,
   "id": "46fb3636-eceb-476b-8a9e-b6d37207ba38",
   "metadata": {},
   "outputs": [],
   "source": [
    "#Testing partition\n",
    "test_data = data.skip(round(len(data)*0.7))\n",
    "#skipped the first 70% of training samples so that we do not include that in our testing\n",
    "test_data = test_data.take(round(len(data) *0.3))\n",
    "#take the reaminning 30% samples for testing on new images\n",
    "test_data = test_data.batch(8)\n",
    "test_data = test_data.prefetch(4)"
   ]
  },
  {
   "cell_type": "code",
   "execution_count": 58,
   "id": "a4d0764a-54c3-48a7-a790-baa37c235d3a",
   "metadata": {},
   "outputs": [
    {
     "data": {
      "text/plain": [
       "14"
      ]
     },
     "execution_count": 58,
     "metadata": {},
     "output_type": "execute_result"
    }
   ],
   "source": [
    "round(len(data)*0.3)"
   ]
  },
  {
   "cell_type": "code",
   "execution_count": 59,
   "id": "c4de3522-5996-41b2-88c0-b47d9fe290e1",
   "metadata": {},
   "outputs": [],
   "source": [
    "#FEATURE MAPPING PIPELINE\n",
    "#BUILD EMBEDDING LAYER\n",
    "\n",
    "def make_embedding(): \n",
    "    inp = Input(shape=(100,100,3), name='input_image')\n",
    "    #In this case the stride is taken as 1\n",
    "    \n",
    "    # First block\n",
    "    c1 = Conv2D(64, (10,10), activation='relu')(inp)\n",
    "    m1 = MaxPooling2D(64, (2,2), padding='same')(c1)\n",
    "    \n",
    "    # Second block\n",
    "    c2 = Conv2D(128, (7,7), activation='relu')(m1)\n",
    "    m2 = MaxPooling2D(64, (2,2), padding='same')(c2)\n",
    "    \n",
    "    # Third block \n",
    "    c3 = Conv2D(128, (4,4), activation='relu')(m2)\n",
    "    m3 = MaxPooling2D(64, (2,2), padding='same')(c3)\n",
    "    \n",
    "    # Final embedding block\n",
    "    c4 = Conv2D(256, (4,4), activation='relu')(m3)\n",
    "    f1 = Flatten()(c4)\n",
    "    d1 = Dense(4096, activation='sigmoid')(f1)\n",
    "    \n",
    "    \n",
    "    return Model(inputs=[inp], outputs=[d1], name='embedding')"
   ]
  },
  {
   "cell_type": "code",
   "execution_count": 60,
   "id": "270ba145-01b6-4da6-861f-48053a7ded54",
   "metadata": {},
   "outputs": [],
   "source": [
    "inp = Input(shape=(100,100,3), name='input_image')"
   ]
  },
  {
   "cell_type": "code",
   "execution_count": 61,
   "id": "33693409-f50f-4f4e-a3f2-225b28dfb209",
   "metadata": {},
   "outputs": [],
   "source": [
    "c1 = Conv2D(64, (10,10), activation='relu')(inp)\n",
    "m1 = MaxPooling2D(64, (2,2), padding='same')(c1)"
   ]
  },
  {
   "cell_type": "code",
   "execution_count": 62,
   "id": "61e4a428-5567-4c99-9a0e-638d04597de1",
   "metadata": {},
   "outputs": [
    {
     "data": {
      "text/plain": [
       "<KerasTensor: shape=(None, 46, 46, 64) dtype=float32 (created by layer 'max_pooling2d')>"
      ]
     },
     "execution_count": 62,
     "metadata": {},
     "output_type": "execute_result"
    }
   ],
   "source": [
    "m1"
   ]
  },
  {
   "cell_type": "code",
   "execution_count": 63,
   "id": "408d332a-cb7f-4054-b3db-3a02ba40ee32",
   "metadata": {},
   "outputs": [],
   "source": [
    "c2 = Conv2D(128, (7,7), activation='relu')(m1)\n",
    "m2 = MaxPooling2D(64, (2,2), padding='same')(c2)"
   ]
  },
  {
   "cell_type": "code",
   "execution_count": 64,
   "id": "6364733e-44d8-44d6-aa6b-f8d99d3c64da",
   "metadata": {},
   "outputs": [
    {
     "data": {
      "text/plain": [
       "<KerasTensor: shape=(None, 40, 40, 128) dtype=float32 (created by layer 'conv2d_1')>"
      ]
     },
     "execution_count": 64,
     "metadata": {},
     "output_type": "execute_result"
    }
   ],
   "source": [
    "c2"
   ]
  },
  {
   "cell_type": "code",
   "execution_count": 65,
   "id": "755a8e52-97e1-46d2-9edf-24e5d6c23ee9",
   "metadata": {},
   "outputs": [
    {
     "data": {
      "text/plain": [
       "<KerasTensor: shape=(None, 20, 20, 128) dtype=float32 (created by layer 'max_pooling2d_1')>"
      ]
     },
     "execution_count": 65,
     "metadata": {},
     "output_type": "execute_result"
    }
   ],
   "source": [
    "m2"
   ]
  },
  {
   "cell_type": "code",
   "execution_count": 66,
   "id": "9a981868-ce8c-44c0-a8d3-3e4d7068e2c8",
   "metadata": {},
   "outputs": [],
   "source": [
    "c3 = Conv2D(128, (4,4), activation='relu')(m2)\n",
    "m3 = MaxPooling2D(64, (2,2), padding='same')(c3)"
   ]
  },
  {
   "cell_type": "code",
   "execution_count": 67,
   "id": "e86c63e3-f9c0-4f3e-9e7f-78cada0554d2",
   "metadata": {},
   "outputs": [
    {
     "data": {
      "text/plain": [
       "<KerasTensor: shape=(None, 9, 9, 128) dtype=float32 (created by layer 'max_pooling2d_2')>"
      ]
     },
     "execution_count": 67,
     "metadata": {},
     "output_type": "execute_result"
    }
   ],
   "source": [
    "m3"
   ]
  },
  {
   "cell_type": "code",
   "execution_count": 68,
   "id": "c6196718-490d-48e8-83bf-e303f4cf426e",
   "metadata": {},
   "outputs": [],
   "source": [
    "c4 = Conv2D(256, (4,4), activation='relu')(m3)\n",
    "f1 = Flatten()(c4)\n",
    "d1 = Dense(4096, activation='sigmoid')(f1)"
   ]
  },
  {
   "cell_type": "code",
   "execution_count": 69,
   "id": "504d9c02-082f-4999-bd41-9a9492a201a0",
   "metadata": {},
   "outputs": [
    {
     "data": {
      "text/plain": [
       "<KerasTensor: shape=(None, 6, 6, 256) dtype=float32 (created by layer 'conv2d_3')>"
      ]
     },
     "execution_count": 69,
     "metadata": {},
     "output_type": "execute_result"
    }
   ],
   "source": [
    "c4"
   ]
  },
  {
   "cell_type": "code",
   "execution_count": 70,
   "id": "182d6739-b7c6-4560-803d-5956003121dd",
   "metadata": {},
   "outputs": [
    {
     "data": {
      "text/plain": [
       "9216"
      ]
     },
     "execution_count": 70,
     "metadata": {},
     "output_type": "execute_result"
    }
   ],
   "source": [
    "6*6*256\n",
    "#so 9216 vectors are going to be flattened in our feature vector"
   ]
  },
  {
   "cell_type": "code",
   "execution_count": 71,
   "id": "3ee6c400-f1a2-4660-8002-9997e1f8771d",
   "metadata": {},
   "outputs": [
    {
     "data": {
      "text/plain": [
       "<KerasTensor: shape=(None, 9216) dtype=float32 (created by layer 'flatten')>"
      ]
     },
     "execution_count": 71,
     "metadata": {},
     "output_type": "execute_result"
    }
   ],
   "source": [
    "f1"
   ]
  },
  {
   "cell_type": "code",
   "execution_count": 72,
   "id": "7e34df8e-5d91-4b27-97d5-6ac34ec0275e",
   "metadata": {},
   "outputs": [
    {
     "data": {
      "text/plain": [
       "<KerasTensor: shape=(None, 4096) dtype=float32 (created by layer 'dense')>"
      ]
     },
     "execution_count": 72,
     "metadata": {},
     "output_type": "execute_result"
    }
   ],
   "source": [
    "d1"
   ]
  },
  {
   "cell_type": "code",
   "execution_count": 73,
   "id": "46c60f57-bad2-4403-8c62-7a677b3fa45d",
   "metadata": {},
   "outputs": [
    {
     "name": "stdout",
     "output_type": "stream",
     "text": [
      "Model: \"embedding\"\n",
      "_________________________________________________________________\n",
      " Layer (type)                Output Shape              Param #   \n",
      "=================================================================\n",
      " input_image (InputLayer)    [(None, 100, 100, 3)]     0         \n",
      "                                                                 \n",
      " conv2d (Conv2D)             (None, 91, 91, 64)        19264     \n",
      "                                                                 \n",
      " max_pooling2d (MaxPooling2  (None, 46, 46, 64)        0         \n",
      " D)                                                              \n",
      "                                                                 \n",
      " conv2d_1 (Conv2D)           (None, 40, 40, 128)       401536    \n",
      "                                                                 \n",
      " max_pooling2d_1 (MaxPoolin  (None, 20, 20, 128)       0         \n",
      " g2D)                                                            \n",
      "                                                                 \n",
      " conv2d_2 (Conv2D)           (None, 17, 17, 128)       262272    \n",
      "                                                                 \n",
      " max_pooling2d_2 (MaxPoolin  (None, 9, 9, 128)         0         \n",
      " g2D)                                                            \n",
      "                                                                 \n",
      " conv2d_3 (Conv2D)           (None, 6, 6, 256)         524544    \n",
      "                                                                 \n",
      " flatten (Flatten)           (None, 9216)              0         \n",
      "                                                                 \n",
      " dense (Dense)               (None, 4096)              37752832  \n",
      "                                                                 \n",
      "=================================================================\n",
      "Total params: 38960448 (148.62 MB)\n",
      "Trainable params: 38960448 (148.62 MB)\n",
      "Non-trainable params: 0 (0.00 Byte)\n",
      "_________________________________________________________________\n"
     ]
    }
   ],
   "source": [
    "mod = Model(inputs=[inp], outputs=[d1], name='embedding')\n",
    "mod.summary()"
   ]
  },
  {
   "cell_type": "code",
   "execution_count": 74,
   "id": "73d427c4-067f-4902-b50c-514a319ecd86",
   "metadata": {},
   "outputs": [
    {
     "name": "stdout",
     "output_type": "stream",
     "text": [
      "Model: \"embedding\"\n",
      "_________________________________________________________________\n",
      " Layer (type)                Output Shape              Param #   \n",
      "=================================================================\n",
      " input_image (InputLayer)    [(None, 100, 100, 3)]     0         \n",
      "                                                                 \n",
      " conv2d_4 (Conv2D)           (None, 91, 91, 64)        19264     \n",
      "                                                                 \n",
      " max_pooling2d_3 (MaxPoolin  (None, 46, 46, 64)        0         \n",
      " g2D)                                                            \n",
      "                                                                 \n",
      " conv2d_5 (Conv2D)           (None, 40, 40, 128)       401536    \n",
      "                                                                 \n",
      " max_pooling2d_4 (MaxPoolin  (None, 20, 20, 128)       0         \n",
      " g2D)                                                            \n",
      "                                                                 \n",
      " conv2d_6 (Conv2D)           (None, 17, 17, 128)       262272    \n",
      "                                                                 \n",
      " max_pooling2d_5 (MaxPoolin  (None, 9, 9, 128)         0         \n",
      " g2D)                                                            \n",
      "                                                                 \n",
      " conv2d_7 (Conv2D)           (None, 6, 6, 256)         524544    \n",
      "                                                                 \n",
      " flatten_1 (Flatten)         (None, 9216)              0         \n",
      "                                                                 \n",
      " dense_1 (Dense)             (None, 4096)              37752832  \n",
      "                                                                 \n",
      "=================================================================\n",
      "Total params: 38960448 (148.62 MB)\n",
      "Trainable params: 38960448 (148.62 MB)\n",
      "Non-trainable params: 0 (0.00 Byte)\n",
      "_________________________________________________________________\n"
     ]
    }
   ],
   "source": [
    "embedding = make_embedding()\n",
    "embedding.summary()"
   ]
  },
  {
   "cell_type": "code",
   "execution_count": 75,
   "id": "e4da1242-17fa-402e-9f1a-ba62d1f675a0",
   "metadata": {},
   "outputs": [],
   "source": [
    "##Build distancce layer"
   ]
  },
  {
   "cell_type": "code",
   "execution_count": 76,
   "id": "256ba992-658f-4379-91c8-b3390ef49161",
   "metadata": {},
   "outputs": [],
   "source": [
    "# Siamese L1 Distance class\n",
    "class L1Dist(Layer):\n",
    "    \n",
    "    # Init method - inheritance\n",
    "    def __init__(self, **kwargs):\n",
    "        super().__init__()\n",
    "       \n",
    "    # Main working happens here - similarity calculation\n",
    "    def call(self, input_embedding, validation_embedding):\n",
    "        return tf.math.abs(input_embedding - validation_embedding)"
   ]
  },
  {
   "cell_type": "code",
   "execution_count": 77,
   "id": "3d94f94c-88f6-4e0d-a7a9-0cfeec914b66",
   "metadata": {},
   "outputs": [],
   "source": [
    "l1 = L1Dist()"
   ]
  },
  {
   "cell_type": "code",
   "execution_count": 78,
   "id": "e2ee6fc1-8e0c-4d62-87c9-ba371718d311",
   "metadata": {},
   "outputs": [
    {
     "data": {
      "text/plain": [
       "<__main__.L1Dist at 0x255c6799490>"
      ]
     },
     "execution_count": 78,
     "metadata": {},
     "output_type": "execute_result"
    }
   ],
   "source": [
    "l1"
   ]
  },
  {
   "cell_type": "code",
   "execution_count": 79,
   "id": "e1a8ffa4-3f65-451f-b8e5-5cf9fc7278c4",
   "metadata": {},
   "outputs": [],
   "source": [
    "input_image = Input(name='input_img', shape=(100,100,3))\n",
    "validation_image = Input(name='validation_img', shape=(100,100,3))"
   ]
  },
  {
   "cell_type": "code",
   "execution_count": 80,
   "id": "c42aff52-7793-4eb7-8992-f20d8348ae96",
   "metadata": {},
   "outputs": [],
   "source": [
    "inp_embedding = embedding(input_image)\n",
    "val_embedding = embedding(validation_image)"
   ]
  },
  {
   "cell_type": "code",
   "execution_count": 81,
   "id": "3278b573-8682-4bd7-a53b-3708ec1dfda8",
   "metadata": {},
   "outputs": [
    {
     "data": {
      "text/plain": [
       "<KerasTensor: shape=(None, 4096) dtype=float32 (created by layer 'l1_dist_1')>"
      ]
     },
     "execution_count": 81,
     "metadata": {},
     "output_type": "execute_result"
    }
   ],
   "source": [
    "siamese_layer = L1Dist()\n",
    "distances = siamese_layer(inp_embedding, val_embedding)\n",
    "distances"
   ]
  },
  {
   "cell_type": "code",
   "execution_count": 82,
   "id": "d258d331-994d-437d-a279-b877851a2d53",
   "metadata": {},
   "outputs": [
    {
     "data": {
      "text/plain": [
       "<KerasTensor: shape=(None, 1) dtype=float32 (created by layer 'dense_2')>"
      ]
     },
     "execution_count": 82,
     "metadata": {},
     "output_type": "execute_result"
    }
   ],
   "source": [
    "classifier = Dense(1, activation='sigmoid')(distances)\n",
    "classifier"
   ]
  },
  {
   "cell_type": "code",
   "execution_count": 83,
   "id": "9d4ec60c-7c59-4e39-80ed-0519f3f6805d",
   "metadata": {},
   "outputs": [
    {
     "name": "stdout",
     "output_type": "stream",
     "text": [
      "Model: \"SiameseNetwork\"\n",
      "__________________________________________________________________________________________________\n",
      " Layer (type)                Output Shape                 Param #   Connected to                  \n",
      "==================================================================================================\n",
      " input_img (InputLayer)      [(None, 100, 100, 3)]        0         []                            \n",
      "                                                                                                  \n",
      " validation_img (InputLayer  [(None, 100, 100, 3)]        0         []                            \n",
      " )                                                                                                \n",
      "                                                                                                  \n",
      " embedding (Functional)      (None, 4096)                 3896044   ['input_img[0][0]',           \n",
      "                                                          8          'validation_img[0][0]']      \n",
      "                                                                                                  \n",
      " l1_dist_1 (L1Dist)          (None, 4096)                 0         ['embedding[0][0]',           \n",
      "                                                                     'embedding[1][0]']           \n",
      "                                                                                                  \n",
      " dense_2 (Dense)             (None, 1)                    4097      ['l1_dist_1[0][0]']           \n",
      "                                                                                                  \n",
      "==================================================================================================\n",
      "Total params: 38964545 (148.64 MB)\n",
      "Trainable params: 38964545 (148.64 MB)\n",
      "Non-trainable params: 0 (0.00 Byte)\n",
      "__________________________________________________________________________________________________\n"
     ]
    }
   ],
   "source": [
    "siamese_network = Model(inputs=[input_image, validation_image], outputs=classifier, name='SiameseNetwork')\n",
    "siamese_network.summary()"
   ]
  },
  {
   "cell_type": "code",
   "execution_count": 84,
   "id": "743d966a-5295-48e9-a2d8-a5127a07ac7b",
   "metadata": {},
   "outputs": [],
   "source": [
    "def make_siamese_model(): \n",
    "    \n",
    "    # Anchor image input in the network\n",
    "    input_image = Input(name='input_img', shape=(100,100,3))\n",
    "    \n",
    "    # Validation image in the network \n",
    "    validation_image = Input(name='validation_img', shape=(100,100,3))\n",
    "    \n",
    "    # Combine siamese distance components\n",
    "    siamese_layer = L1Dist()\n",
    "    siamese_layer._name = 'distance'\n",
    "    #so in summary we will see this name pop up\n",
    "    distances = siamese_layer(embedding(input_image), embedding(validation_image))\n",
    "    \n",
    "    # Classification layer \n",
    "    classifier = Dense(1, activation='sigmoid')(distances)\n",
    "    \n",
    "    return Model(inputs=[input_image, validation_image], outputs=classifier, name='SiameseNetwork')"
   ]
  },
  {
   "cell_type": "code",
   "execution_count": 85,
   "id": "b8c9018f-596f-48c2-8ee9-961ec817306f",
   "metadata": {},
   "outputs": [
    {
     "name": "stdout",
     "output_type": "stream",
     "text": [
      "Model: \"SiameseNetwork\"\n",
      "__________________________________________________________________________________________________\n",
      " Layer (type)                Output Shape                 Param #   Connected to                  \n",
      "==================================================================================================\n",
      " input_img (InputLayer)      [(None, 100, 100, 3)]        0         []                            \n",
      "                                                                                                  \n",
      " validation_img (InputLayer  [(None, 100, 100, 3)]        0         []                            \n",
      " )                                                                                                \n",
      "                                                                                                  \n",
      " embedding (Functional)      (None, 4096)                 3896044   ['input_img[0][0]',           \n",
      "                                                          8          'validation_img[0][0]']      \n",
      "                                                                                                  \n",
      " distance (L1Dist)           (None, 4096)                 0         ['embedding[2][0]',           \n",
      "                                                                     'embedding[3][0]']           \n",
      "                                                                                                  \n",
      " dense_3 (Dense)             (None, 1)                    4097      ['distance[0][0]']            \n",
      "                                                                                                  \n",
      "==================================================================================================\n",
      "Total params: 38964545 (148.64 MB)\n",
      "Trainable params: 38964545 (148.64 MB)\n",
      "Non-trainable params: 0 (0.00 Byte)\n",
      "__________________________________________________________________________________________________\n"
     ]
    }
   ],
   "source": [
    "siamese_model = make_siamese_model()\n",
    "siamese_model.summary()"
   ]
  },
  {
   "cell_type": "code",
   "execution_count": 115,
   "id": "affb4e54-175f-4f8e-9b61-a6ca36141b44",
   "metadata": {},
   "outputs": [],
   "source": [
    "from tensorflow.keras.callbacks import LearningRateScheduler\n",
    "\n",
    "#exponential decay\n",
    "def scheduler(epoch,lr):\n",
    "    if epoch <= 3:\n",
    "        return lr\n",
    "    else:\n",
    "        return lr * tf.math.exp(-0.1)\n",
    "    "
   ]
  },
  {
   "cell_type": "code",
   "execution_count": 116,
   "id": "2a9d49ac-0c77-4301-a678-86a8911ece27",
   "metadata": {},
   "outputs": [],
   "source": [
    "callback = LearningRateScheduler(scheduler)"
   ]
  },
  {
   "cell_type": "code",
   "execution_count": 117,
   "id": "d4834e31-b5fa-40b4-9746-3c934449a0fc",
   "metadata": {},
   "outputs": [],
   "source": [
    "#optimizer for backpropagation\n",
    "binary_cross_loss = tf.losses.BinaryCrossentropy()\n",
    "opt = tf.keras.optimizers.Adam(1e-4) # 0.0001\n",
    "#In here we can set logits = true by writing:\n",
    "#BinaryCrossEntropy(fron_logits=true) this is recommended when the inputs to the loss function \n",
    "#are not normalized"
   ]
  },
  {
   "cell_type": "code",
   "execution_count": 118,
   "id": "5727f874-10fc-4293-bf00-65ebfe7fe0de",
   "metadata": {},
   "outputs": [],
   "source": [
    "#ESTABLISHING CHECKPOINTS\n",
    "checkpoint_dir = './training_checkpoints'\n",
    "checkpoint_prefix = os.path.join(checkpoint_dir, 'ckpt')\n",
    "checkpoint = tf.train.Checkpoint(opt=opt, siamese_model=siamese_model)"
   ]
  },
  {
   "cell_type": "code",
   "execution_count": 119,
   "id": "d4cc931d-0e09-4380-a1f9-1a46ffc6553f",
   "metadata": {},
   "outputs": [],
   "source": [
    "test_batch = train_data.as_numpy_iterator()"
   ]
  },
  {
   "cell_type": "code",
   "execution_count": 120,
   "id": "d6d4f93d-7b9e-403b-8e0b-01af4004ff7c",
   "metadata": {},
   "outputs": [],
   "source": [
    "batch_1 = test_batch.next()"
   ]
  },
  {
   "cell_type": "code",
   "execution_count": 121,
   "id": "aa59dd98-c690-4a7d-b6b7-44e790c1d8d4",
   "metadata": {},
   "outputs": [
    {
     "data": {
      "text/plain": [
       "array([[[[0.4513302 , 0.47485963, 0.57612705],\n",
       "         [0.3900157 , 0.4135451 , 0.5088016 ],\n",
       "         [0.23185885, 0.2577412 , 0.34203923],\n",
       "         ...,\n",
       "         [0.46690983, 0.44570985, 0.485702  ],\n",
       "         [0.4582541 , 0.43662745, 0.4701349 ],\n",
       "         [0.45815063, 0.43854278, 0.46500707]],\n",
       "\n",
       "        [[0.41856787, 0.44209728, 0.5361741 ],\n",
       "         [0.13303058, 0.16267766, 0.25357962],\n",
       "         [0.05288627, 0.08428235, 0.1641255 ],\n",
       "         ...,\n",
       "         [0.4569412 , 0.42956865, 0.46062747],\n",
       "         [0.45484078, 0.42723292, 0.45452708],\n",
       "         [0.452     , 0.42723608, 0.4458823 ]],\n",
       "\n",
       "        [[0.23831375, 0.26733336, 0.35260394],\n",
       "         [0.07520785, 0.10606275, 0.18867451],\n",
       "         [0.03647059, 0.06901962, 0.14117648],\n",
       "         ...,\n",
       "         [0.43800002, 0.4062353 , 0.4191765 ],\n",
       "         [0.45030588, 0.4122667 , 0.42089412],\n",
       "         [0.45677647, 0.41873726, 0.4256235 ]],\n",
       "\n",
       "        ...,\n",
       "\n",
       "        [[0.52656513, 0.59415716, 0.5760472 ],\n",
       "         [0.4702991 , 0.5237342 , 0.5088793 ],\n",
       "         [0.0473332 , 0.07286253, 0.05584281],\n",
       "         ...,\n",
       "         [0.31537262, 0.20164712, 0.07615691],\n",
       "         [0.30899605, 0.19785878, 0.07150584],\n",
       "         [0.3022511 , 0.2002903 , 0.07087854]],\n",
       "\n",
       "        [[0.4764064 , 0.55276096, 0.5497601 ],\n",
       "         [0.33223093, 0.3966576 , 0.39344186],\n",
       "         [0.06605486, 0.09471369, 0.09410972],\n",
       "         ...,\n",
       "         [0.32141173, 0.20768625, 0.08219604],\n",
       "         [0.30176002, 0.19062278, 0.06426983],\n",
       "         [0.28362828, 0.18166748, 0.05225572]],\n",
       "\n",
       "        [[0.47921258, 0.55560476, 0.55850667],\n",
       "         [0.25237063, 0.3168412 , 0.31580117],\n",
       "         [0.02549042, 0.06127075, 0.06573353],\n",
       "         ...,\n",
       "         [0.32156864, 0.20784314, 0.08235294],\n",
       "         [0.29688305, 0.18574582, 0.05939287],\n",
       "         [0.28650972, 0.18454894, 0.05513719]]],\n",
       "\n",
       "\n",
       "       [[[0.49494272, 0.4881396 , 0.57014585],\n",
       "         [0.49338824, 0.4864251 , 0.56848466],\n",
       "         [0.47108236, 0.4695686 , 0.5498118 ],\n",
       "         ...,\n",
       "         [0.4544863 , 0.44349808, 0.48034516],\n",
       "         [0.4496094 , 0.4340392 , 0.46552783],\n",
       "         [0.4545757 , 0.43496785, 0.46143216]],\n",
       "\n",
       "        [[0.47692078, 0.48303846, 0.56039214],\n",
       "         [0.4621537 , 0.46795765, 0.5454652 ],\n",
       "         [0.4321255 , 0.44404706, 0.51855683],\n",
       "         ...,\n",
       "         [0.45081568, 0.431051  , 0.45850196],\n",
       "         [0.45457885, 0.4271545 , 0.45438743],\n",
       "         [0.45482355, 0.43023375, 0.44882193]],\n",
       "\n",
       "        [[0.439851  , 0.46117646, 0.527451  ],\n",
       "         [0.42384315, 0.4449647 , 0.51123923],\n",
       "         [0.41439214, 0.4394902 , 0.5074118 ],\n",
       "         ...,\n",
       "         [0.44000006, 0.40705886, 0.42352945],\n",
       "         [0.4381412 , 0.4049961 , 0.4127059 ],\n",
       "         [0.45026666, 0.41687062, 0.4228863 ]],\n",
       "\n",
       "        ...,\n",
       "\n",
       "        [[0.571208  , 0.6552    , 0.62688625],\n",
       "         [0.56413376, 0.6378355 , 0.61289436],\n",
       "         [0.56109804, 0.6152156 , 0.591294  ],\n",
       "         ...,\n",
       "         [0.3199609 , 0.21717656, 0.09023545],\n",
       "         [0.30002365, 0.19806287, 0.06813347],\n",
       "         [0.2937962 , 0.19183545, 0.06007083]],\n",
       "\n",
       "        [[0.5579984 , 0.65588075, 0.63231057],\n",
       "         [0.54536784, 0.6311372 , 0.61063206],\n",
       "         [0.5619216 , 0.6280627 , 0.6145725 ],\n",
       "         ...,\n",
       "         [0.31139606, 0.20943527, 0.0800235 ],\n",
       "         [0.29538977, 0.193429  , 0.06229173],\n",
       "         [0.28627452, 0.18431373, 0.04705882]],\n",
       "\n",
       "        [[0.54323304, 0.64127225, 0.625586  ],\n",
       "         [0.5198086 , 0.6056125 , 0.58686745],\n",
       "         [0.48725528, 0.5570591 , 0.5401964 ],\n",
       "         ...,\n",
       "         [0.30631378, 0.20435302, 0.07494125],\n",
       "         [0.27015868, 0.1681979 , 0.03706063],\n",
       "         [0.2872895 , 0.18532872, 0.04807381]]],\n",
       "\n",
       "\n",
       "       [[[0.46229178, 0.4858212 , 0.5720957 ],\n",
       "         [0.4182196 , 0.44480786, 0.5219059 ],\n",
       "         [0.28641567, 0.31386667, 0.38837647],\n",
       "         ...,\n",
       "         [0.46280786, 0.45104316, 0.4800471 ],\n",
       "         [0.45080316, 0.43835294, 0.46286118],\n",
       "         [0.45490196, 0.43529412, 0.45685017]],\n",
       "\n",
       "        [[0.44566432, 0.4731153 , 0.5476251 ],\n",
       "         [0.30993882, 0.3373898 , 0.41189963],\n",
       "         [0.05283922, 0.08264314, 0.15474509],\n",
       "         ...,\n",
       "         [0.45560783, 0.436     , 0.45937255],\n",
       "         [0.45929414, 0.43876234, 0.45429176],\n",
       "         [0.46235296, 0.43882352, 0.44854897]],\n",
       "\n",
       "        [[0.3346745 , 0.36212552, 0.4338902 ],\n",
       "         [0.1168157 , 0.14426668, 0.21603139],\n",
       "         [0.03631373, 0.06611765, 0.13552941],\n",
       "         ...,\n",
       "         [0.42513728, 0.40278435, 0.40749022],\n",
       "         [0.43733335, 0.40556863, 0.41066667],\n",
       "         [0.44039217, 0.41065884, 0.40792152]],\n",
       "\n",
       "        ...,\n",
       "\n",
       "        [[0.55432975, 0.60302764, 0.59204704],\n",
       "         [0.5693416 , 0.6098905 , 0.5992159 ],\n",
       "         [0.06498054, 0.08188233, 0.06725479],\n",
       "         ...,\n",
       "         [0.32007828, 0.2063528 , 0.07921562],\n",
       "         [0.30688626, 0.19316077, 0.06410986],\n",
       "         [0.3074355 , 0.19371003, 0.0603767 ]],\n",
       "\n",
       "        [[0.53041416, 0.5930024 , 0.5930024 ],\n",
       "         [0.48603317, 0.5425038 , 0.5423814 ],\n",
       "         [0.05877646, 0.09621172, 0.09410188],\n",
       "         ...,\n",
       "         [0.32057258, 0.20684709, 0.07586671],\n",
       "         [0.29952943, 0.18580393, 0.05247061],\n",
       "         [0.29029495, 0.17656943, 0.0432361 ]],\n",
       "\n",
       "        [[0.48907456, 0.55966276, 0.5654667 ],\n",
       "         [0.40819982, 0.4726704 , 0.4696116 ],\n",
       "         [0.05064323, 0.09490196, 0.09112944],\n",
       "         ...,\n",
       "         [0.3148155 , 0.20461947, 0.07010965],\n",
       "         [0.3014901 , 0.1877646 , 0.05443127],\n",
       "         [0.30216312, 0.18843764, 0.05510431]]],\n",
       "\n",
       "\n",
       "       ...,\n",
       "\n",
       "\n",
       "       [[[0.43988863, 0.5058824 , 0.61434036],\n",
       "         [0.4037067 , 0.46062744, 0.56623375],\n",
       "         [0.46447843, 0.4989882 , 0.593498  ],\n",
       "         ...,\n",
       "         [0.5153804 , 0.5636157 , 0.6267608 ],\n",
       "         [0.5054902 , 0.5508235 , 0.5999623 ],\n",
       "         [0.49449724, 0.53371286, 0.57496774]],\n",
       "\n",
       "        [[0.46078432, 0.53325486, 0.6490196 ],\n",
       "         [0.41553727, 0.47308862, 0.57999057],\n",
       "         [0.4914667 , 0.5314666 , 0.6310745 ],\n",
       "         ...,\n",
       "         [0.5187922 , 0.57223535, 0.64141184],\n",
       "         [0.50509804, 0.55523294, 0.6163482 ],\n",
       "         [0.49623525, 0.54337245, 0.59274346]],\n",
       "\n",
       "        [[0.49152943, 0.5632863 , 0.6909098 ],\n",
       "         [0.42487058, 0.4848157 , 0.60121566],\n",
       "         [0.54219604, 0.581098  , 0.68619615],\n",
       "         ...,\n",
       "         [0.5263137 , 0.58788234, 0.67407846],\n",
       "         [0.5083372 , 0.56480783, 0.64098823],\n",
       "         [0.49327052, 0.5517725 , 0.6166587 ]],\n",
       "\n",
       "        ...,\n",
       "\n",
       "        [[0.06311467, 0.14062844, 0.17043227],\n",
       "         [0.09218201, 0.16310766, 0.1938291 ],\n",
       "         [0.13788432, 0.21121769, 0.24219795],\n",
       "         ...,\n",
       "         [0.2925883 , 0.19180393, 0.06592144],\n",
       "         [0.2913491 , 0.18588245, 0.06008626],\n",
       "         [0.30744332, 0.19371784, 0.06822764]],\n",
       "\n",
       "        [[0.00301806, 0.07938982, 0.11468393],\n",
       "         [0.        , 0.06738977, 0.10574272],\n",
       "         [0.0051295 , 0.07571774, 0.11493342],\n",
       "         ...,\n",
       "         [0.2867137 , 0.18713726, 0.08217251],\n",
       "         [0.29653174, 0.19491915, 0.07723758],\n",
       "         [0.30576313, 0.19203763, 0.06854581]],\n",
       "\n",
       "        [[0.04850268, 0.1232806 , 0.15857472],\n",
       "         [0.04254984, 0.11427689, 0.15262982],\n",
       "         [0.02691717, 0.09657204, 0.13578774],\n",
       "         ...,\n",
       "         [0.24911427, 0.15890251, 0.0592947 ],\n",
       "         [0.28131953, 0.17982931, 0.06218226],\n",
       "         [0.29730818, 0.18358266, 0.06013165]]],\n",
       "\n",
       "\n",
       "       [[[0.3739404 , 0.2641365 , 0.17786194],\n",
       "         [0.36978352, 0.2599796 , 0.1737051 ],\n",
       "         [0.39045492, 0.2827608 , 0.20094903],\n",
       "         ...,\n",
       "         [0.4567137 , 0.31553724, 0.17985095],\n",
       "         [0.45519528, 0.31401882, 0.18068549],\n",
       "         [0.4629679 , 0.32179144, 0.18845809]],\n",
       "\n",
       "        [[0.36666667, 0.25686276, 0.17058824],\n",
       "         [0.36688468, 0.26013958, 0.17692393],\n",
       "         [0.3970196 , 0.2911843 , 0.21116078],\n",
       "         ...,\n",
       "         [0.45613334, 0.31495687, 0.1737804 ],\n",
       "         [0.45574746, 0.31457096, 0.17339452],\n",
       "         [0.45584312, 0.31466666, 0.17349017]],\n",
       "\n",
       "        [[0.5011216 , 0.39406276, 0.31053331],\n",
       "         [0.5125725 , 0.40643138, 0.3238196 ],\n",
       "         [0.50352937, 0.4       , 0.31882352],\n",
       "         ...,\n",
       "         [0.4634902 , 0.3223137 , 0.18113725],\n",
       "         [0.45704314, 0.31586665, 0.17469019],\n",
       "         [0.45403138, 0.31285492, 0.17167842]],\n",
       "\n",
       "        ...,\n",
       "\n",
       "        [[0.16832158, 0.06636079, 0.07028236],\n",
       "         [0.18366276, 0.08170197, 0.08562354],\n",
       "         [0.2396079 , 0.1376471 , 0.14156868],\n",
       "         ...,\n",
       "         [0.4136863 , 0.2615686 , 0.10862744],\n",
       "         [0.41029802, 0.2591372 , 0.10619602],\n",
       "         [0.40219602, 0.2531764 , 0.10023522]],\n",
       "\n",
       "        [[0.16760784, 0.06564706, 0.06956863],\n",
       "         [0.17706355, 0.07510276, 0.07902434],\n",
       "         [0.23032944, 0.12836866, 0.13229023],\n",
       "         ...,\n",
       "         [0.41945094, 0.26925486, 0.11631368],\n",
       "         [0.42243132, 0.27341172, 0.12047053],\n",
       "         [0.41647053, 0.2674509 , 0.11450973]],\n",
       "\n",
       "        [[0.17858815, 0.07662736, 0.07270579],\n",
       "         [0.17300238, 0.07104158, 0.07323766],\n",
       "         [0.21795301, 0.11599223, 0.1199138 ],\n",
       "         ...,\n",
       "         [0.4205412 , 0.2715216 , 0.11858042],\n",
       "         [0.41835302, 0.26933342, 0.11639225],\n",
       "         [0.41545105, 0.26643145, 0.11349027]]],\n",
       "\n",
       "\n",
       "       [[[0.47851765, 0.4981255 , 0.5726353 ],\n",
       "         [0.46566433, 0.48527217, 0.55978197],\n",
       "         [0.40385884, 0.42346668, 0.49915296],\n",
       "         ...,\n",
       "         [0.4688549 , 0.44885492, 0.49207062],\n",
       "         [0.45939296, 0.43413803, 0.4782541 ],\n",
       "         [0.46431378, 0.43392786, 0.47410512]],\n",
       "\n",
       "        [[0.45686588, 0.47651452, 0.5510619 ],\n",
       "         [0.41550276, 0.44126275, 0.5126965 ],\n",
       "         [0.2789961 , 0.3064471 , 0.37703532],\n",
       "         ...,\n",
       "         [0.45855686, 0.43341178, 0.46355295],\n",
       "         [0.4565757 , 0.42643136, 0.454571  ],\n",
       "         [0.45960784, 0.42047057, 0.45149174]],\n",
       "\n",
       "        [[0.4196863 , 0.4433647 , 0.52453333],\n",
       "         [0.36247846, 0.38992944, 0.46326277],\n",
       "         [0.05411766, 0.08513727, 0.15682355],\n",
       "         ...,\n",
       "         [0.44274512, 0.40980396, 0.42627454],\n",
       "         [0.44701177, 0.40897256, 0.4176    ],\n",
       "         [0.4473647 , 0.40932548, 0.41621175]],\n",
       "\n",
       "        ...,\n",
       "\n",
       "        [[0.5718902 , 0.6336705 , 0.5971291 ],\n",
       "         [0.58349067, 0.633059  , 0.6080315 ],\n",
       "         [0.25501895, 0.2781952 , 0.2616854 ],\n",
       "         ...,\n",
       "         [0.30937254, 0.20741177, 0.07250971],\n",
       "         [0.3062432 , 0.20428242, 0.06886274],\n",
       "         [0.30283135, 0.20087056, 0.06361566]],\n",
       "\n",
       "        [[0.5598228 , 0.63417566, 0.6183325 ],\n",
       "         [0.55736786, 0.63159835, 0.6098211 ],\n",
       "         [0.261059  , 0.3125099 , 0.28990602],\n",
       "         ...,\n",
       "         [0.30091766, 0.19895688, 0.06954512],\n",
       "         [0.28958595, 0.18762515, 0.05648788],\n",
       "         [0.29233423, 0.19037342, 0.05311853]],\n",
       "\n",
       "        [[0.532521  , 0.61197203, 0.60107005],\n",
       "         [0.5466087 , 0.6309804 , 0.5930809 ],\n",
       "         [0.18494159, 0.25233755, 0.21483958],\n",
       "         ...,\n",
       "         [0.31287047, 0.21090968, 0.08149791],\n",
       "         [0.294803  , 0.1928422 , 0.06343044],\n",
       "         [0.28749645, 0.18553565, 0.05612389]]]], dtype=float32)"
      ]
     },
     "execution_count": 121,
     "metadata": {},
     "output_type": "execute_result"
    }
   ],
   "source": [
    "batch_1[0]"
   ]
  },
  {
   "cell_type": "code",
   "execution_count": 122,
   "id": "3afc34a0-3900-499d-825a-2f0208aff2c1",
   "metadata": {},
   "outputs": [
    {
     "data": {
      "text/plain": [
       "array([1., 1., 1., 1., 1., 1., 1., 0.], dtype=float32)"
      ]
     },
     "execution_count": 122,
     "metadata": {},
     "output_type": "execute_result"
    }
   ],
   "source": [
    "batch_1[2]\n",
    "#this should give us all the labels"
   ]
  },
  {
   "cell_type": "code",
   "execution_count": 123,
   "id": "4fda0e0b-50c4-4c46-8c6d-d340c843e82a",
   "metadata": {},
   "outputs": [
    {
     "data": {
      "text/plain": [
       "array([1., 1., 1., 1., 1., 1., 1., 0.], dtype=float32)"
      ]
     },
     "execution_count": 123,
     "metadata": {},
     "output_type": "execute_result"
    }
   ],
   "source": [
    "X = batch_1[:2]\n",
    "y = batch_1[2]\n",
    "y"
   ]
  },
  {
   "cell_type": "code",
   "execution_count": 124,
   "id": "40d6a5ae-548e-4288-a1b0-dd8c6333b2fc",
   "metadata": {},
   "outputs": [
    {
     "data": {
      "text/plain": [
       "(2, 8, 100, 100, 3)"
      ]
     },
     "execution_count": 124,
     "metadata": {},
     "output_type": "execute_result"
    }
   ],
   "source": [
    "np.array(X).shape\n",
    "#2 components one is the input/anchor image and the other is either positive or negative image\n",
    "#8 is the batch size in a single batch\n",
    "#100x100 is the dimensions\n",
    "#3 meaning depth is 3 (not a grayscale image)"
   ]
  },
  {
   "cell_type": "code",
   "execution_count": 125,
   "id": "a84c2f65-18f8-46be-a30b-fab8d580447a",
   "metadata": {},
   "outputs": [],
   "source": [
    "#TRAINING STEP\n",
    "@tf.function\n",
    "#using tf.function(it is a decorator) we are compiling what is in this train_step function\n",
    "def train_step(batch):\n",
    "    \n",
    "    # Record all of our operations \n",
    "    with tf.GradientTape() as tape:     \n",
    "        # Get anchor and positive/negative image\n",
    "        X = batch[:2]\n",
    "        # Get label\n",
    "        y = batch[2]\n",
    "        \n",
    "        # Forward pass\n",
    "        yhat = siamese_model(X, training=True)\n",
    "        # Calculate loss\n",
    "        loss = binary_cross_loss(y, yhat)\n",
    "    print(loss)\n",
    "        \n",
    "    # Calculate gradients\n",
    "    grad = tape.gradient(loss, siamese_model.trainable_variables)\n",
    "    \n",
    "    # Calculate updated weights and apply to siamese model\n",
    "    opt.apply_gradients(zip(grad, siamese_model.trainable_variables))\n",
    "    \n",
    "    # Return loss\n",
    "    return loss\n"
   ]
  },
  {
   "cell_type": "code",
   "execution_count": 126,
   "id": "cb6d1127-8c93-4515-80f8-0354c95d8d1a",
   "metadata": {},
   "outputs": [],
   "source": [
    "#BUILDING THE TRAINING LOOP\n",
    "def train(data, EPOCHS):\n",
    "    # Loop through epochs\n",
    "    for epoch in range(1, EPOCHS+1):\n",
    "        print('\\n Epoch {}/{}'.format(epoch, EPOCHS))\n",
    "        progbar = tf.keras.utils.Progbar(len(data))\n",
    "        \n",
    "        # Loop through each batch\n",
    "        for idx, batch in enumerate(data):\n",
    "            # Run train step here\n",
    "            train_step(batch)\n",
    "            progbar.update(idx+1)\n",
    "        \n",
    "        # Save checkpoints\n",
    "        if epoch % 10 == 0: \n",
    "            checkpoint.save(file_prefix=checkpoint_prefix)"
   ]
  },
  {
   "cell_type": "code",
   "execution_count": 127,
   "id": "eed0deb4-a909-4343-a11d-d6bd8211befa",
   "metadata": {},
   "outputs": [
    {
     "name": "stdout",
     "output_type": "stream",
     "text": [
      "\n",
      " Epoch 1/40\n",
      "Tensor(\"binary_crossentropy/weighted_loss/value:0\", shape=(), dtype=float32)\n",
      "Tensor(\"binary_crossentropy/weighted_loss/value:0\", shape=(), dtype=float32)\n",
      "4/4 [==============================] - 56s 13s/step\n",
      "\n",
      " Epoch 2/40\n",
      "4/4 [==============================] - 55s 14s/step\n",
      "\n",
      " Epoch 3/40\n",
      "4/4 [==============================] - 55s 14s/step\n",
      "\n",
      " Epoch 4/40\n",
      "4/4 [==============================] - 54s 14s/step\n",
      "\n",
      " Epoch 5/40\n",
      "4/4 [==============================] - 55s 14s/step\n",
      "\n",
      " Epoch 6/40\n",
      "4/4 [==============================] - 54s 13s/step\n",
      "\n",
      " Epoch 7/40\n",
      "4/4 [==============================] - 54s 14s/step\n",
      "\n",
      " Epoch 8/40\n",
      "4/4 [==============================] - 53s 13s/step\n",
      "\n",
      " Epoch 9/40\n",
      "4/4 [==============================] - 55s 14s/step\n",
      "\n",
      " Epoch 10/40\n",
      "4/4 [==============================] - 54s 13s/step\n",
      "\n",
      " Epoch 11/40\n",
      "4/4 [==============================] - 55s 14s/step\n",
      "\n",
      " Epoch 12/40\n",
      "4/4 [==============================] - 56s 14s/step\n",
      "\n",
      " Epoch 13/40\n",
      "4/4 [==============================] - 55s 14s/step\n",
      "\n",
      " Epoch 14/40\n",
      "4/4 [==============================] - 54s 13s/step\n",
      "\n",
      " Epoch 15/40\n",
      "4/4 [==============================] - 55s 14s/step\n",
      "\n",
      " Epoch 16/40\n",
      "4/4 [==============================] - 54s 14s/step\n",
      "\n",
      " Epoch 17/40\n",
      "4/4 [==============================] - 54s 14s/step\n",
      "\n",
      " Epoch 18/40\n",
      "4/4 [==============================] - 71s 19s/step\n",
      "\n",
      " Epoch 19/40\n",
      "4/4 [==============================] - 57s 14s/step\n",
      "\n",
      " Epoch 20/40\n",
      "4/4 [==============================] - 54s 13s/step\n",
      "\n",
      " Epoch 21/40\n",
      "4/4 [==============================] - 55s 14s/step\n",
      "\n",
      " Epoch 22/40\n",
      "4/4 [==============================] - 57s 14s/step\n",
      "\n",
      " Epoch 23/40\n",
      "4/4 [==============================] - 56s 14s/step\n",
      "\n",
      " Epoch 24/40\n",
      "4/4 [==============================] - 54s 14s/step\n",
      "\n",
      " Epoch 25/40\n",
      "4/4 [==============================] - 54s 13s/step\n",
      "\n",
      " Epoch 26/40\n",
      "4/4 [==============================] - 55s 14s/step\n",
      "\n",
      " Epoch 27/40\n",
      "4/4 [==============================] - 55s 14s/step\n",
      "\n",
      " Epoch 28/40\n",
      "4/4 [==============================] - 56s 14s/step\n",
      "\n",
      " Epoch 29/40\n",
      "4/4 [==============================] - 54s 13s/step\n",
      "\n",
      " Epoch 30/40\n",
      "4/4 [==============================] - 55s 14s/step\n",
      "\n",
      " Epoch 31/40\n",
      "4/4 [==============================] - 55s 14s/step\n",
      "\n",
      " Epoch 32/40\n",
      "4/4 [==============================] - 55s 14s/step\n",
      "\n",
      " Epoch 33/40\n",
      "4/4 [==============================] - 56s 14s/step\n",
      "\n",
      " Epoch 34/40\n",
      "4/4 [==============================] - 55s 14s/step\n",
      "\n",
      " Epoch 35/40\n",
      "4/4 [==============================] - 55s 14s/step\n",
      "\n",
      " Epoch 36/40\n",
      "4/4 [==============================] - 54s 14s/step\n",
      "\n",
      " Epoch 37/40\n",
      "4/4 [==============================] - 54s 14s/step\n",
      "\n",
      " Epoch 38/40\n",
      "4/4 [==============================] - 54s 13s/step\n",
      "\n",
      " Epoch 39/40\n",
      "4/4 [==============================] - 55s 14s/step\n",
      "\n",
      " Epoch 40/40\n",
      "4/4 [==============================] - 55s 14s/step\n"
     ]
    }
   ],
   "source": [
    "EPOCHS = 40\n",
    "train(train_data, EPOCHS)"
   ]
  },
  {
   "cell_type": "code",
   "execution_count": 128,
   "id": "21d1893d-657f-4672-afa7-454904f2f249",
   "metadata": {},
   "outputs": [],
   "source": [
    "# Import metric calculations\n",
    "from tensorflow.keras.metrics import Precision, Recall"
   ]
  },
  {
   "cell_type": "code",
   "execution_count": 129,
   "id": "f0483b38-924f-4a90-b2ac-8e1e09f5cb46",
   "metadata": {},
   "outputs": [],
   "source": [
    "#Precision deonstrates what proportions of positive identifications were actually correct. Recall shows what proportion of actual positives were\n",
    "#identified correctly\n",
    "\n",
    "# Get a batch of test data\n",
    "test_input, test_val, y_true = test_data.as_numpy_iterator().next()"
   ]
  },
  {
   "cell_type": "code",
   "execution_count": 130,
   "id": "7fb30466-4b99-479f-9ace-b1ca7f8fe4aa",
   "metadata": {},
   "outputs": [],
   "source": [
    "# Get a batch of test data\n",
    "test_input, test_val, y_true = test_data.as_numpy_iterator().next()"
   ]
  },
  {
   "cell_type": "code",
   "execution_count": 131,
   "id": "1ea38f94-a430-454a-98f9-06398fae2fee",
   "metadata": {},
   "outputs": [],
   "source": [
    "test_var = test_data.as_numpy_iterator().next()"
   ]
  },
  {
   "cell_type": "code",
   "execution_count": 132,
   "id": "1f140da7-95ad-4b22-a637-2df5b9ccfdb4",
   "metadata": {},
   "outputs": [
    {
     "data": {
      "text/plain": [
       "3"
      ]
     },
     "execution_count": 132,
     "metadata": {},
     "output_type": "execute_result"
    }
   ],
   "source": [
    "len(test_var)"
   ]
  },
  {
   "cell_type": "code",
   "execution_count": 133,
   "id": "e87b3d4a-6151-4361-8a59-8c5d0c652bef",
   "metadata": {},
   "outputs": [
    {
     "data": {
      "text/plain": [
       "8"
      ]
     },
     "execution_count": 133,
     "metadata": {},
     "output_type": "execute_result"
    }
   ],
   "source": [
    "len(test_var[1])"
   ]
  },
  {
   "cell_type": "code",
   "execution_count": 134,
   "id": "c0bdcb23-4994-4d25-8fcc-d358317d0578",
   "metadata": {},
   "outputs": [
    {
     "data": {
      "text/plain": [
       "array([[[[4.51620400e-01, 5.06522298e-01, 6.19554520e-01],\n",
       "         [4.12345111e-01, 4.54032928e-01, 5.66131771e-01],\n",
       "         [4.60094094e-01, 4.89168614e-01, 5.95686257e-01],\n",
       "         ...,\n",
       "         [5.20298064e-01, 5.60298145e-01, 6.26964808e-01],\n",
       "         [5.06922364e-01, 5.40490985e-01, 6.02257311e-01],\n",
       "         [5.05366206e-01, 5.35719156e-01, 5.89758277e-01]],\n",
       "\n",
       "        [[4.84961569e-01, 5.45708299e-01, 6.48668230e-01],\n",
       "         [4.22639996e-01, 4.68583524e-01, 5.77385128e-01],\n",
       "         [4.90298033e-01, 5.24854898e-01, 6.21694088e-01],\n",
       "         ...,\n",
       "         [5.33513725e-01, 5.73623598e-01, 6.40392244e-01],\n",
       "         [5.21769404e-01, 5.55372536e-01, 6.21193767e-01],\n",
       "         [5.09981096e-01, 5.37588894e-01, 6.00296378e-01]],\n",
       "\n",
       "        [[5.02596080e-01, 5.67372561e-01, 6.69333339e-01],\n",
       "         [4.27592158e-01, 4.84219611e-01, 5.86180389e-01],\n",
       "         [5.42509794e-01, 5.83215714e-01, 6.76980436e-01],\n",
       "         ...,\n",
       "         [5.44274509e-01, 5.88941216e-01, 6.67019665e-01],\n",
       "         [5.28862774e-01, 5.69647014e-01, 6.39058769e-01],\n",
       "         [5.14329314e-01, 5.57145059e-01, 6.20752871e-01]],\n",
       "\n",
       "        ...,\n",
       "\n",
       "        [[1.26990452e-01, 2.06425861e-01, 2.26033702e-01],\n",
       "         [1.16174571e-01, 1.96433485e-01, 2.16041327e-01],\n",
       "         [1.01374291e-01, 1.82080239e-01, 2.00041011e-01],\n",
       "         ...,\n",
       "         [3.07058841e-01, 1.89411774e-01, 4.98822890e-02],\n",
       "         [3.03011864e-01, 1.86831504e-01, 4.74039465e-02],\n",
       "         [3.04078639e-01, 1.93098307e-01, 5.15295304e-02]],\n",
       "\n",
       "        [[9.99211334e-04, 8.31576064e-02, 1.02765448e-01],\n",
       "         [8.45486647e-04, 8.00611600e-02, 9.96690020e-02],\n",
       "         [2.35344851e-05, 7.57333413e-02, 9.53411832e-02],\n",
       "         ...,\n",
       "         [3.07058841e-01, 1.89411774e-01, 5.37254773e-02],\n",
       "         [3.01002324e-01, 1.84218019e-01, 5.08846827e-02],\n",
       "         [3.00784290e-01, 1.87058806e-01, 5.37254773e-02]],\n",
       "\n",
       "        [[9.35371742e-02, 1.71249956e-01, 1.90857798e-01],\n",
       "         [6.03565834e-02, 1.40042767e-01, 1.59650609e-01],\n",
       "         [7.47986808e-02, 1.55284896e-01, 1.74892738e-01],\n",
       "         ...,\n",
       "         [3.06815714e-01, 1.89168647e-01, 5.58353215e-02],\n",
       "         [3.04058164e-01, 1.87273830e-01, 5.39404973e-02],\n",
       "         [3.04941326e-01, 1.91215843e-01, 5.78825101e-02]]],\n",
       "\n",
       "\n",
       "       [[[4.73284304e-01, 4.32107836e-01, 4.07598048e-01],\n",
       "         [4.79166657e-01, 4.37990189e-01, 4.13480401e-01],\n",
       "         [4.78431374e-01, 4.37254906e-01, 4.12745088e-01],\n",
       "         ...,\n",
       "         [6.13725483e-01, 6.37499988e-01, 7.00245082e-01],\n",
       "         [6.70833349e-01, 6.88970566e-01, 7.28921592e-01],\n",
       "         [6.05147064e-01, 5.67156851e-01, 5.98529398e-01]],\n",
       "\n",
       "        [[4.94117647e-01, 4.36029404e-01, 4.08578426e-01],\n",
       "         [5.00000000e-01, 4.41911757e-01, 4.14460778e-01],\n",
       "         [5.06127477e-01, 4.47549015e-01, 4.24019605e-01],\n",
       "         ...,\n",
       "         [5.68872571e-01, 5.75735271e-01, 6.58823550e-01],\n",
       "         [6.38480365e-01, 6.39705896e-01, 6.84558809e-01],\n",
       "         [5.80147088e-01, 5.25490224e-01, 5.49019635e-01]],\n",
       "\n",
       "        [[5.02696097e-01, 4.58088249e-01, 4.23529416e-01],\n",
       "         [5.09068608e-01, 4.66911763e-01, 4.31617647e-01],\n",
       "         [5.13725519e-01, 4.71568614e-01, 4.36274499e-01],\n",
       "         ...,\n",
       "         [5.52696049e-01, 5.51470578e-01, 6.42401934e-01],\n",
       "         [5.84068656e-01, 5.69117665e-01, 6.05392158e-01],\n",
       "         [5.87254882e-01, 5.15441179e-01, 5.17156839e-01]],\n",
       "\n",
       "        ...,\n",
       "\n",
       "        [[2.81862747e-02, 8.70098025e-02, 9.87745076e-02],\n",
       "         [3.45588252e-02, 8.65196064e-02, 9.73039195e-02],\n",
       "         [4.11764719e-02, 8.13725516e-02, 8.92156884e-02],\n",
       "         ...,\n",
       "         [4.31372561e-02, 8.23529437e-02, 1.01470590e-01],\n",
       "         [6.61764741e-02, 1.01470590e-01, 1.26960784e-01],\n",
       "         [7.05882385e-02, 1.05882354e-01, 1.31372556e-01]],\n",
       "\n",
       "        [[9.31372587e-03, 7.69607872e-02, 9.16666687e-02],\n",
       "         [1.93627458e-02, 7.57352933e-02, 8.77451003e-02],\n",
       "         [3.99509817e-02, 8.01470578e-02, 8.94607827e-02],\n",
       "         ...,\n",
       "         [8.03921595e-02, 1.01960786e-01, 1.19607843e-01],\n",
       "         [1.61029413e-01, 1.89215690e-01, 2.04656869e-01],\n",
       "         [2.91666657e-01, 3.22303921e-01, 3.35539222e-01]],\n",
       "\n",
       "        [[8.57843161e-02, 1.61274508e-01, 1.86519608e-01],\n",
       "         [5.68627454e-02, 1.23039216e-01, 1.50490195e-01],\n",
       "         [2.18137261e-02, 7.32843131e-02, 9.70588252e-02],\n",
       "         ...,\n",
       "         [9.85294133e-02, 1.29901960e-01, 1.40686274e-01],\n",
       "         [1.50735289e-01, 1.82107836e-01, 1.89950988e-01],\n",
       "         [2.62745112e-01, 3.01960796e-01, 3.02450985e-01]]],\n",
       "\n",
       "\n",
       "       [[[4.69143540e-01, 5.51496446e-01, 6.73065066e-01],\n",
       "         [3.78694922e-01, 4.54930216e-01, 5.73440015e-01],\n",
       "         [2.76376456e-01, 3.50886256e-01, 4.68533337e-01],\n",
       "         ...,\n",
       "         [5.59709787e-01, 6.02509797e-01, 6.67466640e-01],\n",
       "         [5.38489342e-01, 5.74352920e-01, 6.31468236e-01],\n",
       "         [5.29981256e-01, 5.68850219e-01, 6.16949022e-01]],\n",
       "\n",
       "        [[4.89212543e-01, 5.63722312e-01, 6.89212501e-01],\n",
       "         [2.38414124e-01, 3.12923968e-01, 4.38414156e-01],\n",
       "         [2.31890202e-01, 3.04047048e-01, 4.27184314e-01],\n",
       "         ...,\n",
       "         [5.52776515e-01, 6.06266677e-01, 6.75419629e-01],\n",
       "         [5.37760019e-01, 5.84897220e-01, 6.47720754e-01],\n",
       "         [5.19727051e-01, 5.66864252e-01, 6.23941898e-01]],\n",
       "\n",
       "        [[3.45600009e-01, 4.20109838e-01, 5.48345089e-01],\n",
       "         [2.31090203e-01, 3.05600017e-01, 4.31694120e-01],\n",
       "         [1.83686271e-01, 2.55843163e-01, 3.78980398e-01],\n",
       "         ...,\n",
       "         [5.48274577e-01, 6.14117742e-01, 6.93372607e-01],\n",
       "         [5.40054917e-01, 5.96525490e-01, 6.68682337e-01],\n",
       "         [5.26501894e-01, 5.85003853e-01, 6.50195956e-01]],\n",
       "\n",
       "        ...,\n",
       "\n",
       "        [[0.00000000e+00, 2.11687591e-02, 3.29334624e-02],\n",
       "         [8.25886056e-03, 3.29099745e-02, 4.46746796e-02],\n",
       "         [4.24314998e-02, 7.13335574e-02, 8.27453360e-02],\n",
       "         ...,\n",
       "         [3.25960815e-01, 2.10666612e-01, 6.04705736e-02],\n",
       "         [3.32243234e-01, 2.16949001e-01, 6.72705993e-02],\n",
       "         [3.40384603e-01, 2.25090384e-01, 7.72472024e-02]],\n",
       "\n",
       "        [[0.00000000e+00, 5.11533162e-03, 1.68800391e-02],\n",
       "         [1.22378857e-04, 1.41443526e-02, 2.59090569e-02],\n",
       "         [4.16483963e-03, 2.46119108e-02, 3.52001451e-02],\n",
       "         ...,\n",
       "         [3.20470601e-01, 2.10666671e-01, 5.77254966e-02],\n",
       "         [3.23843151e-01, 2.14039221e-01, 6.28235489e-02],\n",
       "         [3.23529482e-01, 2.13725552e-01, 6.86275139e-02]],\n",
       "\n",
       "        [[0.00000000e+00, 5.74578159e-03, 2.53536254e-02],\n",
       "         [0.00000000e+00, 7.15768198e-03, 2.06478797e-02],\n",
       "         [3.62346601e-03, 1.81018412e-02, 2.86900792e-02],\n",
       "         ...,\n",
       "         [3.26901913e-01, 2.17097983e-01, 6.96469769e-02],\n",
       "         [3.25391382e-01, 2.17312932e-01, 7.22148940e-02],\n",
       "         [3.16941261e-01, 2.14980483e-01, 6.98824450e-02]]],\n",
       "\n",
       "\n",
       "       ...,\n",
       "\n",
       "\n",
       "       [[[1.10646278e-01, 1.77312940e-01, 2.79273719e-01],\n",
       "         [1.12170979e-01, 1.81896478e-01, 2.77739614e-01],\n",
       "         [1.36698037e-01, 2.10815683e-01, 3.01403940e-01],\n",
       "         ...,\n",
       "         [5.46439230e-01, 5.94674587e-01, 6.58596158e-01],\n",
       "         [5.40705919e-01, 5.86039245e-01, 6.35178030e-01],\n",
       "         [5.31228185e-01, 5.70443869e-01, 6.11698687e-01]],\n",
       "\n",
       "        [[9.55874473e-02, 1.62254125e-01, 2.64214903e-01],\n",
       "         [8.08282346e-02, 1.50553733e-01, 2.46396855e-01],\n",
       "         [8.73490199e-02, 1.61466673e-01, 2.52054900e-01],\n",
       "         ...,\n",
       "         [5.48815727e-01, 6.02149069e-01, 6.71215773e-01],\n",
       "         [5.33551395e-01, 5.86666644e-01, 6.38727844e-01],\n",
       "         [5.30588210e-01, 5.77647030e-01, 6.26901925e-01]],\n",
       "\n",
       "        [[1.21270590e-01, 1.87937260e-01, 2.89898068e-01],\n",
       "         [1.15866669e-01, 1.85592160e-01, 2.81435281e-01],\n",
       "         [1.32039219e-01, 2.06156865e-01, 2.96745092e-01],\n",
       "         ...,\n",
       "         [5.62705874e-01, 6.20705903e-01, 6.97568715e-01],\n",
       "         [5.49121559e-01, 6.06266618e-01, 6.69615686e-01],\n",
       "         [5.41019559e-01, 5.90823472e-01, 6.52541101e-01]],\n",
       "\n",
       "        ...,\n",
       "\n",
       "        [[3.45888361e-03, 1.70981828e-02, 2.88628899e-02],\n",
       "         [1.20786426e-03, 1.78589299e-02, 2.96236351e-02],\n",
       "         [0.00000000e+00, 1.05882827e-02, 2.23529898e-02],\n",
       "         ...,\n",
       "         [3.22470516e-01, 2.05098048e-01, 5.22352569e-02],\n",
       "         [3.30517620e-01, 2.11451039e-01, 5.75450659e-02],\n",
       "         [3.41160923e-01, 2.15670720e-01, 6.39059618e-02]],\n",
       "\n",
       "        [[0.00000000e+00, 5.01962472e-03, 1.67843308e-02],\n",
       "         [0.00000000e+00, 7.92158581e-03, 1.96862910e-02],\n",
       "         [0.00000000e+00, 8.99607316e-03, 2.07607802e-02],\n",
       "         ...,\n",
       "         [3.30925465e-01, 2.07788214e-01, 5.87686151e-02],\n",
       "         [3.33350599e-01, 2.07860395e-01, 5.88407889e-02],\n",
       "         [3.30509812e-01, 2.05019608e-01, 5.59999943e-02]],\n",
       "\n",
       "        [[0.00000000e+00, 6.82352949e-03, 1.07450979e-02],\n",
       "         [0.00000000e+00, 6.98039215e-03, 1.70196090e-02],\n",
       "         [0.00000000e+00, 1.64627321e-02, 2.82274373e-02],\n",
       "         ...,\n",
       "         [3.30980361e-01, 2.07843140e-01, 5.88235296e-02],\n",
       "         [3.31314534e-01, 2.05824360e-01, 5.68047427e-02],\n",
       "         [3.37163895e-01, 2.11673692e-01, 6.26540780e-02]]],\n",
       "\n",
       "\n",
       "       [[[4.75013316e-01, 5.50385833e-01, 6.55248582e-01],\n",
       "         [4.37998414e-01, 4.95488614e-01, 5.97449362e-01],\n",
       "         [4.98447031e-01, 5.34525514e-01, 6.18447065e-01],\n",
       "         ...,\n",
       "         [5.56007862e-01, 5.94431400e-01, 6.55231416e-01],\n",
       "         [5.44804692e-01, 5.82294881e-01, 6.29077613e-01],\n",
       "         [5.31228185e-01, 5.62600732e-01, 6.06431246e-01]],\n",
       "\n",
       "        [[5.04825056e-01, 5.80197632e-01, 6.85101211e-01],\n",
       "         [4.56600785e-01, 5.14090955e-01, 6.16147459e-01],\n",
       "         [5.40588200e-01, 5.75098038e-01, 6.69607818e-01],\n",
       "         ...,\n",
       "         [5.64392209e-01, 6.12682402e-01, 6.76705956e-01],\n",
       "         [5.34335673e-01, 5.78858018e-01, 6.34762347e-01],\n",
       "         [5.34489393e-01, 5.72862744e-01, 6.23116851e-01]],\n",
       "\n",
       "        [[5.16760767e-01, 5.90101957e-01, 7.03097999e-01],\n",
       "         [4.52713728e-01, 5.14486253e-01, 6.19090199e-01],\n",
       "         [5.84509790e-01, 6.24509811e-01, 7.21764743e-01],\n",
       "         ...,\n",
       "         [5.67411780e-01, 6.23882413e-01, 7.00039268e-01],\n",
       "         [5.51552951e-01, 6.01356864e-01, 6.66847050e-01],\n",
       "         [5.45349002e-01, 5.95152915e-01, 6.56870544e-01]],\n",
       "\n",
       "        ...,\n",
       "\n",
       "        [[5.38675711e-02, 1.10651888e-01, 1.33020446e-01],\n",
       "         [7.76481256e-03, 3.02981846e-02, 6.30040690e-02],\n",
       "         [1.07844798e-02, 2.40786318e-02, 5.20001315e-02],\n",
       "         ...,\n",
       "         [3.40431303e-01, 2.08745062e-01, 5.89019097e-02],\n",
       "         [3.42125535e-01, 2.08792195e-01, 5.97725846e-02],\n",
       "         [3.49553198e-01, 2.16219857e-01, 6.72002435e-02]],\n",
       "\n",
       "        [[4.07929510e-05, 5.58258966e-02, 8.42556879e-02],\n",
       "         [3.45171684e-05, 1.95811894e-02, 5.99733107e-02],\n",
       "         [2.35344851e-05, 1.40397029e-03, 3.66274863e-02],\n",
       "         ...,\n",
       "         [3.43945116e-01, 2.10611761e-01, 6.15921505e-02],\n",
       "         [3.47999960e-01, 2.14666635e-01, 6.56470209e-02],\n",
       "         [3.42097193e-01, 2.08763883e-01, 5.97442687e-02]],\n",
       "\n",
       "        [[2.16014460e-02, 7.54837990e-02, 1.10431239e-01],\n",
       "         [1.33128148e-02, 3.67637947e-02, 7.78822228e-02],\n",
       "         [0.00000000e+00, 5.25494758e-03, 4.59842645e-02],\n",
       "         ...,\n",
       "         [3.40462655e-01, 2.07129329e-01, 5.92861995e-02],\n",
       "         [3.34294796e-01, 2.00961471e-01, 5.19418567e-02],\n",
       "         [3.37085307e-01, 2.03751981e-01, 5.47323748e-02]]],\n",
       "\n",
       "\n",
       "       [[[4.67342734e-01, 5.57538867e-01, 6.79107487e-01],\n",
       "         [3.76690209e-01, 4.66886282e-01, 5.88454902e-01],\n",
       "         [2.69858837e-01, 3.57701987e-01, 4.76917654e-01],\n",
       "         ...,\n",
       "         [5.58141172e-01, 6.00941181e-01, 6.65898025e-01],\n",
       "         [5.39744318e-01, 5.76781154e-01, 6.27529383e-01],\n",
       "         [5.30777991e-01, 5.64817250e-01, 6.08660281e-01]],\n",
       "\n",
       "        [[4.92762327e-01, 5.82958460e-01, 7.08448648e-01],\n",
       "         [2.58037686e-01, 3.42116088e-01, 4.64547455e-01],\n",
       "         [2.24360779e-01, 3.04360777e-01, 4.24752951e-01],\n",
       "         ...,\n",
       "         [5.51286280e-01, 6.04831398e-01, 6.71129465e-01],\n",
       "         [5.37350595e-01, 5.84487855e-01, 6.39546633e-01],\n",
       "         [5.28589785e-01, 5.75785041e-01, 6.24981880e-01]],\n",
       "\n",
       "        [[3.61788243e-01, 4.43749040e-01, 5.71984351e-01],\n",
       "         [2.30454892e-01, 3.10580373e-01, 4.37898040e-01],\n",
       "         [1.86039224e-01, 2.66039222e-01, 3.86431366e-01],\n",
       "         ...,\n",
       "         [5.50902009e-01, 6.17568672e-01, 6.94353044e-01],\n",
       "         [5.44784307e-01, 6.01858795e-01, 6.71027422e-01],\n",
       "         [5.31301796e-01, 5.91388106e-01, 6.49490058e-01]],\n",
       "\n",
       "        ...,\n",
       "\n",
       "        [[0.00000000e+00, 1.59295201e-02, 2.88706478e-02],\n",
       "         [8.25886056e-03, 3.05099487e-02, 5.17099351e-02],\n",
       "         [3.65098156e-02, 6.23138063e-02, 8.74903053e-02],\n",
       "         ...,\n",
       "         [3.26666683e-01, 2.09019616e-01, 6.00000136e-02],\n",
       "         [3.24345231e-01, 2.09050998e-01, 5.88549785e-02],\n",
       "         [3.33561063e-01, 2.18266830e-01, 6.80708066e-02]],\n",
       "\n",
       "        [[0.00000000e+00, 9.72549058e-03, 2.54117642e-02],\n",
       "         [1.22378857e-04, 1.32816071e-02, 3.50855291e-02],\n",
       "         [6.09424617e-03, 2.80550309e-02, 5.15844412e-02],\n",
       "         ...,\n",
       "         [3.22823554e-01, 2.10556835e-01, 5.88470660e-02],\n",
       "         [3.18492532e-01, 2.08688617e-01, 5.57474494e-02],\n",
       "         [3.24392170e-01, 2.14588240e-01, 6.16470650e-02]],\n",
       "\n",
       "        [[1.91526045e-03, 1.09678209e-02, 3.84187996e-02],\n",
       "         [0.00000000e+00, 4.39220201e-03, 2.87843589e-02],\n",
       "         [0.00000000e+00, 1.73410997e-02, 3.85175683e-02],\n",
       "         ...,\n",
       "         [3.27301919e-01, 2.17498004e-01, 6.45568222e-02],\n",
       "         [3.23880762e-01, 2.14076832e-01, 6.11356571e-02],\n",
       "         [3.23888719e-01, 2.14084789e-01, 6.11436181e-02]]]],\n",
       "      dtype=float32)"
      ]
     },
     "execution_count": 134,
     "metadata": {},
     "output_type": "execute_result"
    }
   ],
   "source": [
    "test_var[1]"
   ]
  },
  {
   "cell_type": "code",
   "execution_count": 135,
   "id": "ca438174-c382-4d1a-a028-e99951645efd",
   "metadata": {},
   "outputs": [
    {
     "data": {
      "text/plain": [
       "array([1., 1., 1., 1., 1., 1., 1., 1.], dtype=float32)"
      ]
     },
     "execution_count": 135,
     "metadata": {},
     "output_type": "execute_result"
    }
   ],
   "source": [
    "test_var[2]"
   ]
  },
  {
   "cell_type": "code",
   "execution_count": 136,
   "id": "b8b44ecc-84ff-4660-9be7-84fa9e7c7cab",
   "metadata": {},
   "outputs": [
    {
     "name": "stdout",
     "output_type": "stream",
     "text": [
      "1/1 [==============================] - 1s 1s/step\n"
     ]
    },
    {
     "data": {
      "text/plain": [
       "array([[8.7493572e-05],\n",
       "       [9.9999946e-01],\n",
       "       [9.6453041e-05],\n",
       "       [9.9999934e-01],\n",
       "       [9.9999511e-01],\n",
       "       [9.9997836e-01],\n",
       "       [3.0488006e-04],\n",
       "       [9.9998903e-01]], dtype=float32)"
      ]
     },
     "execution_count": 136,
     "metadata": {},
     "output_type": "execute_result"
    }
   ],
   "source": [
    "# Make predictions\n",
    "y_hat = siamese_model.predict([test_input, test_val])\n",
    "y_hat"
   ]
  },
  {
   "cell_type": "code",
   "execution_count": 137,
   "id": "afc693f0-b9be-482e-8a29-02c52a62a5fe",
   "metadata": {},
   "outputs": [
    {
     "data": {
      "text/plain": [
       "[0, 1, 0, 1, 1, 1, 0, 1]"
      ]
     },
     "execution_count": 137,
     "metadata": {},
     "output_type": "execute_result"
    }
   ],
   "source": [
    "#To convert above into a classification output i.e - either 0 or 1\n",
    "# Post processing the results \n",
    "[1 if prediction > 0.5 else 0 for prediction in y_hat ]"
   ]
  },
  {
   "cell_type": "code",
   "execution_count": 138,
   "id": "19642b43-91c6-40d8-9fdb-3572c3408c10",
   "metadata": {},
   "outputs": [
    {
     "data": {
      "text/plain": [
       "array([0., 1., 0., 1., 1., 1., 0., 1.], dtype=float32)"
      ]
     },
     "execution_count": 138,
     "metadata": {},
     "output_type": "execute_result"
    }
   ],
   "source": [
    "y_true"
   ]
  },
  {
   "cell_type": "code",
   "execution_count": 139,
   "id": "581f9227-d2c9-4024-9e22-9d56bb1bbfa9",
   "metadata": {},
   "outputs": [
    {
     "data": {
      "text/plain": [
       "1.0"
      ]
     },
     "execution_count": 139,
     "metadata": {},
     "output_type": "execute_result"
    }
   ],
   "source": [
    "# Creating a metric object \n",
    "m = Recall()\n",
    "\n",
    "# Calculating the recall value \n",
    "m.update_state(y_true, y_hat)\n",
    "\n",
    "# Return Recall Result\n",
    "m.result().numpy()\n",
    "\n",
    "#the higher the value the better"
   ]
  },
  {
   "cell_type": "code",
   "execution_count": 140,
   "id": "79d176e5-a3c7-4525-a0b4-a6b0227eb137",
   "metadata": {},
   "outputs": [
    {
     "data": {
      "text/plain": [
       "1.0"
      ]
     },
     "execution_count": 140,
     "metadata": {},
     "output_type": "execute_result"
    }
   ],
   "source": [
    "# Creating a metric object \n",
    "m = Precision()\n",
    "\n",
    "# Calculating the recall value \n",
    "m.update_state(y_true, y_hat)\n",
    "\n",
    "# Return Recall Result\n",
    "m.result().numpy()\n",
    "\n",
    "#the higher the value the better"
   ]
  },
  {
   "cell_type": "code",
   "execution_count": 146,
   "id": "ea420dd7-5f17-4999-a665-6a5d52f9f806",
   "metadata": {},
   "outputs": [
    {
     "data": {
      "image/png": "[encoded data removed]",
      "text/plain": [
       "<Figure size 1000x800 with 2 Axes>"
      ]
     },
     "metadata": {},
     "output_type": "display_data"
    }
   ],
   "source": [
    "#here we are comparing our results\n",
    "\n",
    "# Set plot size \n",
    "plt.figure(figsize=(10,8))\n",
    "\n",
    "# Set first subplot\n",
    "plt.subplot(1,2,1)\n",
    "plt.imshow(test_input[0])\n",
    "#the subplot allows you to render plots using a grid like format. The first parameter is the number of rows, the second the number of columns\n",
    "#and the third value is index\n",
    "\n",
    "# Set second subplot\n",
    "plt.subplot(1,2,2)\n",
    "plt.imshow(test_val[0])\n",
    "\n",
    "# Renders cleanly\n",
    "plt.show()\n",
    "\n",
    "#In above array when the value is 0  then the people in front of the camera are not identified and if it is 1 then they are succesfully identified"
   ]
  },
  {
   "cell_type": "code",
   "execution_count": 142,
   "id": "1b47ed3d-8626-4f4e-b34b-758eb8ece9c2",
   "metadata": {},
   "outputs": [],
   "source": [
    "# Save weights\n",
    "siamese_model.save('siamesemodelv2.keras')"
   ]
  },
  {
   "cell_type": "code",
   "execution_count": 143,
   "id": "ee658ae2-1e7e-4689-93d9-146bfb25b573",
   "metadata": {},
   "outputs": [
    {
     "name": "stderr",
     "output_type": "stream",
     "text": [
      "WARNING:absl:Skipping variable loading for optimizer 'Adam', because it has 25 variables whereas the saved optimizer has 1 variables. \n"
     ]
    }
   ],
   "source": [
    "# Reload model \n",
    "siamese_model = tf.keras.models.load_model('siamesemodelv2.keras', \n",
    "                                   custom_objects={'L1Dist':L1Dist, 'BinaryCrossentropy':tf.losses.BinaryCrossentropy})"
   ]
  },
  {
   "cell_type": "code",
   "execution_count": 144,
   "id": "244f436f-e7c8-4fbb-8705-fce4d5c1915f",
   "metadata": {},
   "outputs": [
    {
     "name": "stdout",
     "output_type": "stream",
     "text": [
      "1/1 [==============================] - 1s 801ms/step\n"
     ]
    },
    {
     "data": {
      "text/plain": [
       "array([[8.7493572e-05],\n",
       "       [9.9999946e-01],\n",
       "       [9.6453041e-05],\n",
       "       [9.9999934e-01],\n",
       "       [9.9999511e-01],\n",
       "       [9.9997836e-01],\n",
       "       [3.0488006e-04],\n",
       "       [9.9998903e-01]], dtype=float32)"
      ]
     },
     "execution_count": 144,
     "metadata": {},
     "output_type": "execute_result"
    }
   ],
   "source": [
    "# Make predictions with reloaded model\n",
    "siamese_model.predict([test_input, test_val])"
   ]
  },
  {
   "cell_type": "code",
   "execution_count": 147,
   "id": "0b24ac8f-d017-430c-95c0-ffdb2c18f13a",
   "metadata": {},
   "outputs": [
    {
     "name": "stdout",
     "output_type": "stream",
     "text": [
      "Model: \"SiameseNetwork\"\n",
      "__________________________________________________________________________________________________\n",
      " Layer (type)                Output Shape                 Param #   Connected to                  \n",
      "==================================================================================================\n",
      " input_img (InputLayer)      [(None, 100, 100, 3)]        0         []                            \n",
      "                                                                                                  \n",
      " validation_img (InputLayer  [(None, 100, 100, 3)]        0         []                            \n",
      " )                                                                                                \n",
      "                                                                                                  \n",
      " embedding (Functional)      (None, 4096)                 3896044   ['input_img[0][0]',           \n",
      "                                                          8          'validation_img[0][0]']      \n",
      "                                                                                                  \n",
      " l1_dist_3 (L1Dist)          (None, 4096)                 0         ['embedding[0][0]',           \n",
      "                                                                     'embedding[1][0]']           \n",
      "                                                                                                  \n",
      " dense_3 (Dense)             (None, 1)                    4097      ['l1_dist_3[0][0]']           \n",
      "                                                                                                  \n",
      "==================================================================================================\n",
      "Total params: 38964545 (148.64 MB)\n",
      "Trainable params: 38964545 (148.64 MB)\n",
      "Non-trainable params: 0 (0.00 Byte)\n",
      "__________________________________________________________________________________________________\n"
     ]
    }
   ],
   "source": [
    "# View model summary\n",
    "siamese_model.summary()"
   ]
  },
  {
   "cell_type": "code",
   "execution_count": 148,
   "id": "1d0ad5c2-6547-46ea-90a7-a95f6756857f",
   "metadata": {},
   "outputs": [],
   "source": [
    "#verification threshold --- 50% > 1\n",
    "#DETECTION THRESHOLD---  example is if 30 classes of images are above 60% and we had originally taken 50images then \n",
    "#Detection metric--- 30/50 = 0.6   (what proportion of verification images are clearing the detection threshold)"
   ]
  },
  {
   "cell_type": "code",
   "execution_count": 149,
   "id": "d13d62e5-7c14-40b9-9b00-7637e07e82ab",
   "metadata": {},
   "outputs": [],
   "source": [
    "def verify(model, detection_threshold, verification_threshold):\n",
    "    # Build results array\n",
    "    results = []\n",
    "    for image in os.listdir(os.path.join('application_data', 'verification_images')):\n",
    "        input_img = preprocess(os.path.join('application_data', 'input_image', 'input_image.jpg'))\n",
    "        validation_img = preprocess(os.path.join('application_data', 'verification_images', image))\n",
    "        \n",
    "        # Make Predictions \n",
    "        result = model.predict(list(np.expand_dims([input_img, validation_img], axis=1)))\n",
    "        results.append(result)\n",
    "    \n",
    "    # Detection Threshold: Metric above which a prediciton is considered positive \n",
    "    detection = np.sum(np.array(results) > detection_threshold)\n",
    "    \n",
    "    # Verification Threshold: Proportion of positive predictions / total positive samples \n",
    "    verification = detection / len(os.listdir(os.path.join('application_data', 'verification_images'))) \n",
    "    verified = verification > verification_threshold\n",
    "    \n",
    "    return results, verified"
   ]
  },
  {
   "cell_type": "code",
   "execution_count": 150,
   "id": "7f22b7fb-17f0-4c7b-a5ff-a234c7d380c2",
   "metadata": {},
   "outputs": [
    {
     "name": "stdout",
     "output_type": "stream",
     "text": [
      "1/1 [==============================] - 0s 251ms/step\n",
      "1/1 [==============================] - 0s 183ms/step\n",
      "1/1 [==============================] - 0s 228ms/step\n",
      "1/1 [==============================] - 0s 159ms/step\n",
      "1/1 [==============================] - 0s 174ms/step\n",
      "1/1 [==============================] - 0s 183ms/step\n",
      "1/1 [==============================] - 0s 182ms/step\n",
      "1/1 [==============================] - 0s 212ms/step\n",
      "1/1 [==============================] - 0s 169ms/step\n",
      "1/1 [==============================] - 0s 211ms/step\n",
      "1/1 [==============================] - 0s 291ms/step\n",
      "1/1 [==============================] - 0s 197ms/step\n",
      "1/1 [==============================] - 0s 301ms/step\n",
      "1/1 [==============================] - 0s 183ms/step\n",
      "1/1 [==============================] - 0s 197ms/step\n",
      "1/1 [==============================] - 0s 198ms/step\n",
      "1/1 [==============================] - 0s 206ms/step\n",
      "1/1 [==============================] - 0s 192ms/step\n",
      "1/1 [==============================] - 0s 176ms/step\n",
      "1/1 [==============================] - 0s 197ms/step\n",
      "1/1 [==============================] - 0s 182ms/step\n",
      "1/1 [==============================] - 0s 230ms/step\n",
      "1/1 [==============================] - 0s 207ms/step\n",
      "1/1 [==============================] - 0s 259ms/step\n",
      "1/1 [==============================] - 0s 316ms/step\n",
      "1/1 [==============================] - 0s 217ms/step\n",
      "1/1 [==============================] - 0s 210ms/step\n",
      "1/1 [==============================] - 0s 213ms/step\n",
      "True\n"
     ]
    }
   ],
   "source": [
    "cap = cv2.VideoCapture(0)\n",
    "while cap.isOpened():\n",
    "    ret, frame = cap.read()\n",
    "    frame = frame[120:120+250,200:200+250, :]\n",
    "    \n",
    "    cv2.imshow('Verification', frame)\n",
    "    \n",
    "    # Verification trigger\n",
    "    if cv2.waitKey(10) & 0xFF == ord('v'):\n",
    "        # Save input image to application_data/input_image folder \n",
    "#         hsv = cv2.cvtColor(frame, cv2.COLOR_BGR2HSV)\n",
    "#         h, s, v = cv2.split(hsv)\n",
    "\n",
    "#         lim = 255 - 10\n",
    "#         v[v > lim] = 255\n",
    "#         v[v <= lim] -= 10\n",
    "        \n",
    "#         final_hsv = cv2.merge((h, s, v))\n",
    "#         img = cv2.cvtColor(final_hsv, cv2.COLOR_HSV2BGR)\n",
    "\n",
    "        cv2.imwrite(os.path.join('application_data', 'input_image', 'input_image.jpg'), frame)\n",
    "        # Run verification\n",
    "        results, verified = verify(siamese_model, 0.5, 0.5)\n",
    "        print(verified)\n",
    "    \n",
    "    if cv2.waitKey(10) & 0xFF == ord('q'):\n",
    "        break\n",
    "cap.release()\n",
    "cv2.destroyAllWindows()"
   ]
  },
  {
   "cell_type": "code",
   "execution_count": 151,
   "id": "8070c95a-c300-43de-91d5-1445ab8ddf2c",
   "metadata": {},
   "outputs": [
    {
     "data": {
      "text/plain": [
       "23"
      ]
     },
     "execution_count": 151,
     "metadata": {},
     "output_type": "execute_result"
    }
   ],
   "source": [
    "np.sum(np.squeeze(results) > 0.5)"
   ]
  },
  {
   "cell_type": "code",
   "execution_count": 152,
   "id": "461e6b8a-9637-4f4b-ba64-31e463a1508a",
   "metadata": {},
   "outputs": [
    {
     "data": {
      "text/plain": [
       "[array([[0.04549726]], dtype=float32),\n",
       " array([[0.99173295]], dtype=float32),\n",
       " array([[0.99228996]], dtype=float32),\n",
       " array([[0.99161994]], dtype=float32),\n",
       " array([[0.9922819]], dtype=float32),\n",
       " array([[0.9924629]], dtype=float32),\n",
       " array([[0.9913497]], dtype=float32),\n",
       " array([[0.9914446]], dtype=float32),\n",
       " array([[0.99132955]], dtype=float32),\n",
       " array([[0.99203384]], dtype=float32),\n",
       " array([[0.99157065]], dtype=float32),\n",
       " array([[0.9693817]], dtype=float32),\n",
       " array([[0.9586818]], dtype=float32),\n",
       " array([[0.96155775]], dtype=float32),\n",
       " array([[0.94468373]], dtype=float32),\n",
       " array([[0.9405939]], dtype=float32),\n",
       " array([[0.9526339]], dtype=float32),\n",
       " array([[0.9793534]], dtype=float32),\n",
       " array([[0.99668974]], dtype=float32),\n",
       " array([[0.9965374]], dtype=float32),\n",
       " array([[0.99663585]], dtype=float32),\n",
       " array([[0.99703616]], dtype=float32),\n",
       " array([[0.99494505]], dtype=float32),\n",
       " array([[0.99678546]], dtype=float32),\n",
       " array([[0.00927702]], dtype=float32),\n",
       " array([[0.00864633]], dtype=float32),\n",
       " array([[0.16742438]], dtype=float32),\n",
       " array([[0.01159587]], dtype=float32)]"
      ]
     },
     "execution_count": 152,
     "metadata": {},
     "output_type": "execute_result"
    }
   ],
   "source": [
    "results"
   ]
  },
  {
   "cell_type": "code",
   "execution_count": null,
   "id": "492c50a4-1fa7-466f-a476-b84df126b47f",
   "metadata": {},
   "outputs": [],
   "source": []
  }
 ],
 "metadata": {
  "kernelspec": {
   "display_name": "Python 3 (ipykernel)",
   "language": "python",
   "name": "python3"
  },
  "language_info": {
   "codemirror_mode": {
    "name": "ipython",
    "version": 3
   },
   "file_extension": ".py",
   "mimetype": "text/x-python",
   "name": "python",
   "nbconvert_exporter": "python",
   "pygments_lexer": "ipython3",
   "version": "3.11.6"
  }
 },
 "nbformat": 4,
 "nbformat_minor": 5
}
